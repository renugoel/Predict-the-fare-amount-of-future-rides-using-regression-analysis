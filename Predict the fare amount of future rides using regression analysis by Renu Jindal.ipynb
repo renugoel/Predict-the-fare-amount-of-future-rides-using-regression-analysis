{
 "cells": [
  {
   "cell_type": "markdown",
   "id": "d87c93b0",
   "metadata": {},
   "source": [
    "## Load the data set"
   ]
  },
  {
   "cell_type": "code",
   "execution_count": 1,
   "id": "16eb2ef8",
   "metadata": {},
   "outputs": [],
   "source": [
    "import pandas as pd\n",
    "import numpy as np\n",
    "import matplotlib.pyplot as plt\n",
    "import seaborn as sns"
   ]
  },
  {
   "cell_type": "code",
   "execution_count": 2,
   "id": "d86c6b8d",
   "metadata": {},
   "outputs": [],
   "source": [
    "df=pd.read_csv('D:\\data sets/uber.csv')"
   ]
  },
  {
   "cell_type": "code",
   "execution_count": 3,
   "id": "5643ce63",
   "metadata": {},
   "outputs": [
    {
     "data": {
      "text/html": [
       "<div>\n",
       "<style scoped>\n",
       "    .dataframe tbody tr th:only-of-type {\n",
       "        vertical-align: middle;\n",
       "    }\n",
       "\n",
       "    .dataframe tbody tr th {\n",
       "        vertical-align: top;\n",
       "    }\n",
       "\n",
       "    .dataframe thead th {\n",
       "        text-align: right;\n",
       "    }\n",
       "</style>\n",
       "<table border=\"1\" class=\"dataframe\">\n",
       "  <thead>\n",
       "    <tr style=\"text-align: right;\">\n",
       "      <th></th>\n",
       "      <th>Unnamed: 0</th>\n",
       "      <th>key</th>\n",
       "      <th>fare_amount</th>\n",
       "      <th>pickup_datetime</th>\n",
       "      <th>pickup_longitude</th>\n",
       "      <th>pickup_latitude</th>\n",
       "      <th>dropoff_longitude</th>\n",
       "      <th>dropoff_latitude</th>\n",
       "      <th>passenger_count</th>\n",
       "    </tr>\n",
       "  </thead>\n",
       "  <tbody>\n",
       "    <tr>\n",
       "      <th>0</th>\n",
       "      <td>24238194</td>\n",
       "      <td>2015-05-07 19:52:06.0000003</td>\n",
       "      <td>7.5</td>\n",
       "      <td>2015-05-07 19:52:06 UTC</td>\n",
       "      <td>-73.999817</td>\n",
       "      <td>40.738354</td>\n",
       "      <td>-73.999512</td>\n",
       "      <td>40.723217</td>\n",
       "      <td>1</td>\n",
       "    </tr>\n",
       "    <tr>\n",
       "      <th>1</th>\n",
       "      <td>27835199</td>\n",
       "      <td>2009-07-17 20:04:56.0000002</td>\n",
       "      <td>7.7</td>\n",
       "      <td>2009-07-17 20:04:56 UTC</td>\n",
       "      <td>-73.994355</td>\n",
       "      <td>40.728225</td>\n",
       "      <td>-73.994710</td>\n",
       "      <td>40.750325</td>\n",
       "      <td>1</td>\n",
       "    </tr>\n",
       "    <tr>\n",
       "      <th>2</th>\n",
       "      <td>44984355</td>\n",
       "      <td>2009-08-24 21:45:00.00000061</td>\n",
       "      <td>12.9</td>\n",
       "      <td>2009-08-24 21:45:00 UTC</td>\n",
       "      <td>-74.005043</td>\n",
       "      <td>40.740770</td>\n",
       "      <td>-73.962565</td>\n",
       "      <td>40.772647</td>\n",
       "      <td>1</td>\n",
       "    </tr>\n",
       "    <tr>\n",
       "      <th>3</th>\n",
       "      <td>25894730</td>\n",
       "      <td>2009-06-26 08:22:21.0000001</td>\n",
       "      <td>5.3</td>\n",
       "      <td>2009-06-26 08:22:21 UTC</td>\n",
       "      <td>-73.976124</td>\n",
       "      <td>40.790844</td>\n",
       "      <td>-73.965316</td>\n",
       "      <td>40.803349</td>\n",
       "      <td>3</td>\n",
       "    </tr>\n",
       "    <tr>\n",
       "      <th>4</th>\n",
       "      <td>17610152</td>\n",
       "      <td>2014-08-28 17:47:00.000000188</td>\n",
       "      <td>16.0</td>\n",
       "      <td>2014-08-28 17:47:00 UTC</td>\n",
       "      <td>-73.925023</td>\n",
       "      <td>40.744085</td>\n",
       "      <td>-73.973082</td>\n",
       "      <td>40.761247</td>\n",
       "      <td>5</td>\n",
       "    </tr>\n",
       "  </tbody>\n",
       "</table>\n",
       "</div>"
      ],
      "text/plain": [
       "   Unnamed: 0                            key  fare_amount  \\\n",
       "0    24238194    2015-05-07 19:52:06.0000003          7.5   \n",
       "1    27835199    2009-07-17 20:04:56.0000002          7.7   \n",
       "2    44984355   2009-08-24 21:45:00.00000061         12.9   \n",
       "3    25894730    2009-06-26 08:22:21.0000001          5.3   \n",
       "4    17610152  2014-08-28 17:47:00.000000188         16.0   \n",
       "\n",
       "           pickup_datetime  pickup_longitude  pickup_latitude  \\\n",
       "0  2015-05-07 19:52:06 UTC        -73.999817        40.738354   \n",
       "1  2009-07-17 20:04:56 UTC        -73.994355        40.728225   \n",
       "2  2009-08-24 21:45:00 UTC        -74.005043        40.740770   \n",
       "3  2009-06-26 08:22:21 UTC        -73.976124        40.790844   \n",
       "4  2014-08-28 17:47:00 UTC        -73.925023        40.744085   \n",
       "\n",
       "   dropoff_longitude  dropoff_latitude  passenger_count  \n",
       "0         -73.999512         40.723217                1  \n",
       "1         -73.994710         40.750325                1  \n",
       "2         -73.962565         40.772647                1  \n",
       "3         -73.965316         40.803349                3  \n",
       "4         -73.973082         40.761247                5  "
      ]
     },
     "execution_count": 3,
     "metadata": {},
     "output_type": "execute_result"
    }
   ],
   "source": [
    "df.head()"
   ]
  },
  {
   "cell_type": "markdown",
   "id": "81860c86",
   "metadata": {},
   "source": [
    "### Explore the data set"
   ]
  },
  {
   "cell_type": "code",
   "execution_count": 4,
   "id": "638abe95",
   "metadata": {},
   "outputs": [
    {
     "data": {
      "text/plain": [
       "(200000, 9)"
      ]
     },
     "execution_count": 4,
     "metadata": {},
     "output_type": "execute_result"
    }
   ],
   "source": [
    "df.shape"
   ]
  },
  {
   "cell_type": "code",
   "execution_count": 5,
   "id": "d90ddb4b",
   "metadata": {},
   "outputs": [
    {
     "name": "stdout",
     "output_type": "stream",
     "text": [
      "<class 'pandas.core.frame.DataFrame'>\n",
      "RangeIndex: 200000 entries, 0 to 199999\n",
      "Data columns (total 9 columns):\n",
      " #   Column             Non-Null Count   Dtype  \n",
      "---  ------             --------------   -----  \n",
      " 0   Unnamed: 0         200000 non-null  int64  \n",
      " 1   key                200000 non-null  object \n",
      " 2   fare_amount        200000 non-null  float64\n",
      " 3   pickup_datetime    200000 non-null  object \n",
      " 4   pickup_longitude   200000 non-null  float64\n",
      " 5   pickup_latitude    200000 non-null  float64\n",
      " 6   dropoff_longitude  199999 non-null  float64\n",
      " 7   dropoff_latitude   199999 non-null  float64\n",
      " 8   passenger_count    200000 non-null  int64  \n",
      "dtypes: float64(5), int64(2), object(2)\n",
      "memory usage: 13.7+ MB\n"
     ]
    }
   ],
   "source": [
    "df.info()"
   ]
  },
  {
   "cell_type": "code",
   "execution_count": 6,
   "id": "6c9b8d8d",
   "metadata": {},
   "outputs": [
    {
     "data": {
      "text/html": [
       "<div>\n",
       "<style scoped>\n",
       "    .dataframe tbody tr th:only-of-type {\n",
       "        vertical-align: middle;\n",
       "    }\n",
       "\n",
       "    .dataframe tbody tr th {\n",
       "        vertical-align: top;\n",
       "    }\n",
       "\n",
       "    .dataframe thead th {\n",
       "        text-align: right;\n",
       "    }\n",
       "</style>\n",
       "<table border=\"1\" class=\"dataframe\">\n",
       "  <thead>\n",
       "    <tr style=\"text-align: right;\">\n",
       "      <th></th>\n",
       "      <th>Unnamed: 0</th>\n",
       "      <th>fare_amount</th>\n",
       "      <th>pickup_longitude</th>\n",
       "      <th>pickup_latitude</th>\n",
       "      <th>dropoff_longitude</th>\n",
       "      <th>dropoff_latitude</th>\n",
       "      <th>passenger_count</th>\n",
       "    </tr>\n",
       "  </thead>\n",
       "  <tbody>\n",
       "    <tr>\n",
       "      <th>count</th>\n",
       "      <td>2.000000e+05</td>\n",
       "      <td>200000.000000</td>\n",
       "      <td>200000.000000</td>\n",
       "      <td>200000.000000</td>\n",
       "      <td>199999.000000</td>\n",
       "      <td>199999.000000</td>\n",
       "      <td>200000.000000</td>\n",
       "    </tr>\n",
       "    <tr>\n",
       "      <th>mean</th>\n",
       "      <td>2.771250e+07</td>\n",
       "      <td>11.359955</td>\n",
       "      <td>-72.527638</td>\n",
       "      <td>39.935885</td>\n",
       "      <td>-72.525292</td>\n",
       "      <td>39.923890</td>\n",
       "      <td>1.684535</td>\n",
       "    </tr>\n",
       "    <tr>\n",
       "      <th>std</th>\n",
       "      <td>1.601382e+07</td>\n",
       "      <td>9.901776</td>\n",
       "      <td>11.437787</td>\n",
       "      <td>7.720539</td>\n",
       "      <td>13.117408</td>\n",
       "      <td>6.794829</td>\n",
       "      <td>1.385997</td>\n",
       "    </tr>\n",
       "    <tr>\n",
       "      <th>min</th>\n",
       "      <td>1.000000e+00</td>\n",
       "      <td>-52.000000</td>\n",
       "      <td>-1340.648410</td>\n",
       "      <td>-74.015515</td>\n",
       "      <td>-3356.666300</td>\n",
       "      <td>-881.985513</td>\n",
       "      <td>0.000000</td>\n",
       "    </tr>\n",
       "    <tr>\n",
       "      <th>25%</th>\n",
       "      <td>1.382535e+07</td>\n",
       "      <td>6.000000</td>\n",
       "      <td>-73.992065</td>\n",
       "      <td>40.734796</td>\n",
       "      <td>-73.991407</td>\n",
       "      <td>40.733823</td>\n",
       "      <td>1.000000</td>\n",
       "    </tr>\n",
       "    <tr>\n",
       "      <th>50%</th>\n",
       "      <td>2.774550e+07</td>\n",
       "      <td>8.500000</td>\n",
       "      <td>-73.981823</td>\n",
       "      <td>40.752592</td>\n",
       "      <td>-73.980093</td>\n",
       "      <td>40.753042</td>\n",
       "      <td>1.000000</td>\n",
       "    </tr>\n",
       "    <tr>\n",
       "      <th>75%</th>\n",
       "      <td>4.155530e+07</td>\n",
       "      <td>12.500000</td>\n",
       "      <td>-73.967154</td>\n",
       "      <td>40.767158</td>\n",
       "      <td>-73.963658</td>\n",
       "      <td>40.768001</td>\n",
       "      <td>2.000000</td>\n",
       "    </tr>\n",
       "    <tr>\n",
       "      <th>max</th>\n",
       "      <td>5.542357e+07</td>\n",
       "      <td>499.000000</td>\n",
       "      <td>57.418457</td>\n",
       "      <td>1644.421482</td>\n",
       "      <td>1153.572603</td>\n",
       "      <td>872.697628</td>\n",
       "      <td>208.000000</td>\n",
       "    </tr>\n",
       "  </tbody>\n",
       "</table>\n",
       "</div>"
      ],
      "text/plain": [
       "         Unnamed: 0    fare_amount  pickup_longitude  pickup_latitude  \\\n",
       "count  2.000000e+05  200000.000000     200000.000000    200000.000000   \n",
       "mean   2.771250e+07      11.359955        -72.527638        39.935885   \n",
       "std    1.601382e+07       9.901776         11.437787         7.720539   \n",
       "min    1.000000e+00     -52.000000      -1340.648410       -74.015515   \n",
       "25%    1.382535e+07       6.000000        -73.992065        40.734796   \n",
       "50%    2.774550e+07       8.500000        -73.981823        40.752592   \n",
       "75%    4.155530e+07      12.500000        -73.967154        40.767158   \n",
       "max    5.542357e+07     499.000000         57.418457      1644.421482   \n",
       "\n",
       "       dropoff_longitude  dropoff_latitude  passenger_count  \n",
       "count      199999.000000     199999.000000    200000.000000  \n",
       "mean          -72.525292         39.923890         1.684535  \n",
       "std            13.117408          6.794829         1.385997  \n",
       "min         -3356.666300       -881.985513         0.000000  \n",
       "25%           -73.991407         40.733823         1.000000  \n",
       "50%           -73.980093         40.753042         1.000000  \n",
       "75%           -73.963658         40.768001         2.000000  \n",
       "max          1153.572603        872.697628       208.000000  "
      ]
     },
     "execution_count": 6,
     "metadata": {},
     "output_type": "execute_result"
    }
   ],
   "source": [
    "df.describe()"
   ]
  },
  {
   "cell_type": "code",
   "execution_count": 7,
   "id": "d82fca26",
   "metadata": {},
   "outputs": [
    {
     "data": {
      "text/plain": [
       "Unnamed: 0           0.0\n",
       "key                  0.0\n",
       "fare_amount          0.0\n",
       "pickup_datetime      0.0\n",
       "pickup_longitude     0.0\n",
       "pickup_latitude      0.0\n",
       "dropoff_longitude    0.0\n",
       "dropoff_latitude     0.0\n",
       "passenger_count      0.0\n",
       "dtype: float64"
      ]
     },
     "execution_count": 7,
     "metadata": {},
     "output_type": "execute_result"
    }
   ],
   "source": [
    "df[df.duplicated()].sum()"
   ]
  },
  {
   "cell_type": "markdown",
   "id": "6cbf8ef8",
   "metadata": {},
   "source": [
    "### Checking for missing values"
   ]
  },
  {
   "cell_type": "code",
   "execution_count": 8,
   "id": "17cf8e4e",
   "metadata": {},
   "outputs": [
    {
     "data": {
      "text/plain": [
       "Unnamed: 0           0\n",
       "key                  0\n",
       "fare_amount          0\n",
       "pickup_datetime      0\n",
       "pickup_longitude     0\n",
       "pickup_latitude      0\n",
       "dropoff_longitude    1\n",
       "dropoff_latitude     1\n",
       "passenger_count      0\n",
       "dtype: int64"
      ]
     },
     "execution_count": 8,
     "metadata": {},
     "output_type": "execute_result"
    }
   ],
   "source": [
    "df.isnull().sum()"
   ]
  },
  {
   "cell_type": "markdown",
   "id": "22af02e3",
   "metadata": {},
   "source": [
    "### for 'pickup_longitude','dropoff_longitude','pickup_latitude','dropoff_latitude'"
   ]
  },
  {
   "cell_type": "code",
   "execution_count": 9,
   "id": "4cd841d3",
   "metadata": {},
   "outputs": [],
   "source": [
    "invalid_piclon=df[(df['pickup_longitude']<-180)|(df['pickup_longitude']>180)]\n",
    "invalid_droplon=df[(df['dropoff_longitude']<-180)|(df['dropoff_longitude']>180)]  \n",
    "invalid_piclat=df[(df['pickup_latitude']<-90)|(df['pickup_latitude']>90)]\n",
    "invalid_droplat=df[(df['dropoff_latitude']<-90)|(df['dropoff_latitude']<90)]"
   ]
  },
  {
   "cell_type": "markdown",
   "id": "f9e53a33",
   "metadata": {},
   "source": [
    "### impute invalid data with 'nan'"
   ]
  },
  {
   "cell_type": "code",
   "execution_count": 10,
   "id": "7dc5161e",
   "metadata": {},
   "outputs": [],
   "source": [
    "df['pickup_longitude']=np.where((df['pickup_longitude']<-180)|(df['pickup_longitude']>180),np.nan,df['pickup_longitude'])"
   ]
  },
  {
   "cell_type": "code",
   "execution_count": 11,
   "id": "66bc4d4c",
   "metadata": {},
   "outputs": [],
   "source": [
    "df['dropoff_longitude']=np.where((df['dropoff_longitude']<-180)|(df['dropoff_longitude']>180),np.nan,df['dropoff_longitude'])\n",
    "df['pickup_latitude']=np.where((df['pickup_latitude']<-90)|(df['pickup_latitude']>90),np.nan,df['pickup_latitude'])\n",
    "df['dropoff_latitude']=np.where((df['dropoff_latitude']<-90)|(df['dropoff_latitude']>90),np.nan,df['dropoff_latitude'])\n"
   ]
  },
  {
   "cell_type": "code",
   "execution_count": 12,
   "id": "54077e3c",
   "metadata": {},
   "outputs": [
    {
     "data": {
      "text/plain": [
       "Unnamed: 0           0\n",
       "key                  0\n",
       "fare_amount          0\n",
       "pickup_datetime      0\n",
       "pickup_longitude     7\n",
       "pickup_latitude      4\n",
       "dropoff_longitude    4\n",
       "dropoff_latitude     4\n",
       "passenger_count      0\n",
       "dtype: int64"
      ]
     },
     "execution_count": 12,
     "metadata": {},
     "output_type": "execute_result"
    }
   ],
   "source": [
    "df.isnull().sum()"
   ]
  },
  {
   "cell_type": "markdown",
   "id": "ae232e0f",
   "metadata": {},
   "source": [
    "### Then impute  missing values with median"
   ]
  },
  {
   "cell_type": "code",
   "execution_count": 13,
   "id": "c137d92f",
   "metadata": {},
   "outputs": [],
   "source": [
    "df['pickup_longitude']=df['pickup_longitude'].fillna(df['pickup_longitude'].median())"
   ]
  },
  {
   "cell_type": "code",
   "execution_count": 14,
   "id": "48030795",
   "metadata": {},
   "outputs": [],
   "source": [
    "df['pickup_latitude']=df['pickup_latitude'].fillna(df['pickup_latitude'].median())\n",
    "df['dropoff_longitude']=df['dropoff_longitude'].fillna(df['dropoff_longitude'].median())\n",
    "df['dropoff_latitude']=df['dropoff_latitude'].fillna(df['dropoff_latitude'].median())"
   ]
  },
  {
   "cell_type": "markdown",
   "id": "bf5fe44b",
   "metadata": {},
   "source": [
    "### Find the distance "
   ]
  },
  {
   "cell_type": "code",
   "execution_count": 15,
   "id": "ebcece38",
   "metadata": {},
   "outputs": [],
   "source": [
    "from geopy.distance import great_circle"
   ]
  },
  {
   "cell_type": "code",
   "execution_count": 16,
   "id": "7dc181fc",
   "metadata": {},
   "outputs": [],
   "source": [
    "def cal_distance(pickup_lat,pickup_long,dropoff_lat,dropoff_long):\n",
    "    \n",
    " \n",
    "    start_coordinates=(pickup_lat,pickup_long)\n",
    "    stop_coordinates=(dropoff_lat,dropoff_long)\n",
    "    \n",
    " \n",
    "    return great_circle(start_coordinates,stop_coordinates).km"
   ]
  },
  {
   "cell_type": "code",
   "execution_count": 17,
   "id": "d3840582",
   "metadata": {},
   "outputs": [],
   "source": [
    "df['distance']=df.apply(lambda x: cal_distance(x['pickup_latitude'],x['pickup_longitude'],x['dropoff_latitude'],x['dropoff_longitude'] ), axis=1)"
   ]
  },
  {
   "cell_type": "code",
   "execution_count": 18,
   "id": "acb448be",
   "metadata": {},
   "outputs": [],
   "source": [
    "df['distance']=round(df['distance'],0)"
   ]
  },
  {
   "cell_type": "code",
   "execution_count": 19,
   "id": "b9ea9a52",
   "metadata": {},
   "outputs": [
    {
     "data": {
      "text/plain": [
       "<Axes: >"
      ]
     },
     "execution_count": 19,
     "metadata": {},
     "output_type": "execute_result"
    },
    {
     "data": {
      "image/png": "[encoded data removed]",
      "text/plain": [
       "<Figure size 640x480 with 1 Axes>"
      ]
     },
     "metadata": {},
     "output_type": "display_data"
    }
   ],
   "source": [
    "df['distance']\n",
    "sns.boxplot(df['distance'])"
   ]
  },
  {
   "cell_type": "markdown",
   "id": "631693a8",
   "metadata": {},
   "source": [
    "### Handling the outliers"
   ]
  },
  {
   "cell_type": "code",
   "execution_count": 20,
   "id": "ec650743",
   "metadata": {},
   "outputs": [
    {
     "data": {
      "text/plain": [
       "count    200000.000000\n",
       "mean         20.610985\n",
       "std         380.225836\n",
       "min           0.000000\n",
       "25%           1.000000\n",
       "50%           2.000000\n",
       "75%           4.000000\n",
       "max        9710.000000\n",
       "Name: distance, dtype: float64"
      ]
     },
     "execution_count": 20,
     "metadata": {},
     "output_type": "execute_result"
    }
   ],
   "source": [
    "df['distance'].describe()"
   ]
  },
  {
   "cell_type": "code",
   "execution_count": 21,
   "id": "e28c94ac",
   "metadata": {},
   "outputs": [],
   "source": [
    "q1=df['distance'].quantile(0.25)\n",
    "q3=df['distance'].quantile(0.90)\n",
    "iqr=q3-q1\n",
    "lb=q1-1.5*iqr\n",
    "ub=q3+1.5*iqr\n",
    "df.loc[df['distance']>=ub,'distance']=ub\n",
    "df.loc[df['distance']<=lb,'distance']=lb"
   ]
  },
  {
   "cell_type": "code",
   "execution_count": 22,
   "id": "0874e7b6",
   "metadata": {},
   "outputs": [
    {
     "data": {
      "text/plain": [
       "count    200000.000000\n",
       "mean          3.201700\n",
       "std           3.245924\n",
       "min           0.000000\n",
       "25%           1.000000\n",
       "50%           2.000000\n",
       "75%           4.000000\n",
       "max          16.000000\n",
       "Name: distance, dtype: float64"
      ]
     },
     "execution_count": 22,
     "metadata": {},
     "output_type": "execute_result"
    }
   ],
   "source": [
    "df['distance'].describe()"
   ]
  },
  {
   "cell_type": "code",
   "execution_count": 23,
   "id": "074ca284",
   "metadata": {},
   "outputs": [
    {
     "data": {
      "text/plain": [
       "<Axes: >"
      ]
     },
     "execution_count": 23,
     "metadata": {},
     "output_type": "execute_result"
    },
    {
     "data": {
      "image/png": "[encoded data removed]",
      "text/plain": [
       "<Figure size 640x480 with 1 Axes>"
      ]
     },
     "metadata": {},
     "output_type": "display_data"
    }
   ],
   "source": [
    "sns.boxplot(df['distance'])"
   ]
  },
  {
   "cell_type": "markdown",
   "id": "f2bf836b",
   "metadata": {},
   "source": [
    "### outliers checking for target variable"
   ]
  },
  {
   "cell_type": "code",
   "execution_count": 24,
   "id": "fbd70a57",
   "metadata": {},
   "outputs": [
    {
     "data": {
      "text/plain": [
       "count    200000.000000\n",
       "mean         11.359955\n",
       "std           9.901776\n",
       "min         -52.000000\n",
       "25%           6.000000\n",
       "50%           8.500000\n",
       "75%          12.500000\n",
       "max         499.000000\n",
       "Name: fare_amount, dtype: float64"
      ]
     },
     "execution_count": 24,
     "metadata": {},
     "output_type": "execute_result"
    }
   ],
   "source": [
    "df['fare_amount'].describe()"
   ]
  },
  {
   "cell_type": "markdown",
   "id": "30bad87f",
   "metadata": {},
   "source": [
    "### Target feature has a lot of outliers"
   ]
  },
  {
   "cell_type": "code",
   "execution_count": 25,
   "id": "285c405a",
   "metadata": {},
   "outputs": [],
   "source": [
    "q1=df['fare_amount'].quantile(0.30)"
   ]
  },
  {
   "cell_type": "code",
   "execution_count": 26,
   "id": "fa443725",
   "metadata": {},
   "outputs": [],
   "source": [
    "q3=df['fare_amount'].quantile(0.75)"
   ]
  },
  {
   "cell_type": "code",
   "execution_count": 27,
   "id": "304e6ede",
   "metadata": {},
   "outputs": [],
   "source": [
    "iqr=q3-q1"
   ]
  },
  {
   "cell_type": "code",
   "execution_count": 28,
   "id": "ea850846",
   "metadata": {},
   "outputs": [],
   "source": [
    "lb=q1-1.5*iqr\n",
    "ub=q3+1.5*iqr"
   ]
  },
  {
   "cell_type": "code",
   "execution_count": 29,
   "id": "e3444e71",
   "metadata": {},
   "outputs": [],
   "source": [
    "df.loc[df['fare_amount']>=ub,'fare_amount']=ub\n",
    "df.loc[df['fare_amount']<=lb,'fare_amount']=lb"
   ]
  },
  {
   "cell_type": "code",
   "execution_count": 30,
   "id": "42ffe46d",
   "metadata": {},
   "outputs": [
    {
     "data": {
      "text/plain": [
       "<Axes: xlabel='fare_amount'>"
      ]
     },
     "execution_count": 30,
     "metadata": {},
     "output_type": "execute_result"
    },
    {
     "data": {
      "image/png": "[encoded data removed]",
      "text/plain": [
       "<Figure size 800x600 with 1 Axes>"
      ]
     },
     "metadata": {},
     "output_type": "display_data"
    }
   ],
   "source": [
    "plt.figure(figsize=(8,6))\n",
    "sns.boxplot(x='fare_amount',data=df)"
   ]
  },
  {
   "cell_type": "code",
   "execution_count": 31,
   "id": "34fac28b",
   "metadata": {},
   "outputs": [
    {
     "data": {
      "text/plain": [
       "<Axes: xlabel='fare_amount', ylabel='Count'>"
      ]
     },
     "execution_count": 31,
     "metadata": {},
     "output_type": "execute_result"
    },
    {
     "data": {
      "image/png": "[encoded data removed]",
      "text/plain": [
       "<Figure size 640x480 with 1 Axes>"
      ]
     },
     "metadata": {},
     "output_type": "display_data"
    }
   ],
   "source": [
    "sns.histplot(df['fare_amount'],bins=50,kde=True)"
   ]
  },
  {
   "cell_type": "code",
   "execution_count": 32,
   "id": "5451672b",
   "metadata": {},
   "outputs": [
    {
     "name": "stderr",
     "output_type": "stream",
     "text": [
      "C:\\Users\\Sony\\AppData\\Local\\Temp\\ipykernel_3544\\2772932758.py:1: UserWarning: \n",
      "\n",
      "`distplot` is a deprecated function and will be removed in seaborn v0.14.0.\n",
      "\n",
      "Please adapt your code to use either `displot` (a figure-level function with\n",
      "similar flexibility) or `histplot` (an axes-level function for histograms).\n",
      "\n",
      "For a guide to updating your code to use the new functions, please see\n",
      "https://gist.github.com/mwaskom/de44147ed2974457ad6372750bbe5751\n",
      "\n",
      "  sns.distplot(df['fare_amount'])\n"
     ]
    },
    {
     "data": {
      "text/plain": [
       "<Axes: xlabel='fare_amount', ylabel='Density'>"
      ]
     },
     "execution_count": 32,
     "metadata": {},
     "output_type": "execute_result"
    },
    {
     "data": {
      "image/png": "[encoded data removed]",
      "text/plain": [
       "<Figure size 640x480 with 1 Axes>"
      ]
     },
     "metadata": {},
     "output_type": "display_data"
    }
   ],
   "source": [
    "sns.distplot(df['fare_amount'])"
   ]
  },
  {
   "cell_type": "markdown",
   "id": "1e8e313f",
   "metadata": {},
   "source": [
    "## Feature Engineering"
   ]
  },
  {
   "cell_type": "code",
   "execution_count": 33,
   "id": "91c5e1bc",
   "metadata": {},
   "outputs": [],
   "source": [
    "df['date']=df['pickup_datetime'].apply(lambda x:x.split(' ')[0])"
   ]
  },
  {
   "cell_type": "code",
   "execution_count": 34,
   "id": "61235f49",
   "metadata": {},
   "outputs": [],
   "source": [
    "df['pickup_time']=df['pickup_datetime'].apply(lambda x:x.split(' ')[1])"
   ]
  },
  {
   "cell_type": "code",
   "execution_count": 35,
   "id": "07642575",
   "metadata": {},
   "outputs": [],
   "source": [
    "df['date']=pd.to_datetime(df['date'],format='%Y-%M-%d')"
   ]
  },
  {
   "cell_type": "code",
   "execution_count": 36,
   "id": "a82f4d27",
   "metadata": {},
   "outputs": [],
   "source": [
    "df['year']=df['date'].dt.year"
   ]
  },
  {
   "cell_type": "code",
   "execution_count": 37,
   "id": "efcdaaae",
   "metadata": {},
   "outputs": [],
   "source": [
    "df['hour']=df['pickup_time'].apply(lambda x:x.split(':')[0])"
   ]
  },
  {
   "cell_type": "code",
   "execution_count": 38,
   "id": "d11d2cb8",
   "metadata": {},
   "outputs": [],
   "source": [
    "df['hour']=df['hour'].astype(int)"
   ]
  },
  {
   "cell_type": "code",
   "execution_count": 39,
   "id": "3e224652",
   "metadata": {},
   "outputs": [],
   "source": [
    "df=df.drop(['date','pickup_time'],axis=1)"
   ]
  },
  {
   "cell_type": "code",
   "execution_count": 40,
   "id": "7ef8cecc",
   "metadata": {},
   "outputs": [],
   "source": [
    "df=df.drop(['key','Unnamed: 0','pickup_datetime'],axis=1)"
   ]
  },
  {
   "cell_type": "code",
   "execution_count": 41,
   "id": "311762cf",
   "metadata": {},
   "outputs": [],
   "source": [
    "b = [-1,12,16,24]\n",
    "l = ['Morning','afterNoon','Eve']\n",
    "df['session'] = pd.cut(df['hour'], bins=b, labels=l)"
   ]
  },
  {
   "cell_type": "code",
   "execution_count": 48,
   "id": "12193841",
   "metadata": {},
   "outputs": [
    {
     "data": {
      "text/plain": [
       "0               Eve\n",
       "1               Eve\n",
       "2               Eve\n",
       "3           Morning\n",
       "4               Eve\n",
       "            ...    \n",
       "199995      Morning\n",
       "199996      Morning\n",
       "199997      Morning\n",
       "199998    afterNoon\n",
       "199999      Morning\n",
       "Name: session, Length: 200000, dtype: category\n",
       "Categories (3, object): ['Morning' < 'afterNoon' < 'Eve']"
      ]
     },
     "execution_count": 48,
     "metadata": {},
     "output_type": "execute_result"
    }
   ],
   "source": [
    "df['session']"
   ]
  },
  {
   "cell_type": "code",
   "execution_count": 42,
   "id": "9ada04e8",
   "metadata": {},
   "outputs": [],
   "source": [
    "bins=[-1,3,8,17]\n",
    "labels=['short','medium','long']\n",
    "df['distance_category']=pd.cut(df['distance'],bins=bins,labels=labels)"
   ]
  },
  {
   "cell_type": "code",
   "execution_count": 49,
   "id": "b0286d2c",
   "metadata": {},
   "outputs": [
    {
     "data": {
      "text/plain": [
       "0          short\n",
       "1          short\n",
       "2         medium\n",
       "3          short\n",
       "4         medium\n",
       "           ...  \n",
       "199995     short\n",
       "199996     short\n",
       "199997      long\n",
       "199998    medium\n",
       "199999    medium\n",
       "Name: distance_category, Length: 200000, dtype: category\n",
       "Categories (3, object): ['short' < 'medium' < 'long']"
      ]
     },
     "execution_count": 49,
     "metadata": {},
     "output_type": "execute_result"
    }
   ],
   "source": [
    "df['distance_category']"
   ]
  },
  {
   "cell_type": "code",
   "execution_count": 43,
   "id": "479ab7e9",
   "metadata": {},
   "outputs": [
    {
     "data": {
      "text/plain": [
       "0"
      ]
     },
     "execution_count": 43,
     "metadata": {},
     "output_type": "execute_result"
    }
   ],
   "source": [
    "df['distance_category'].isnull().sum()"
   ]
  },
  {
   "cell_type": "code",
   "execution_count": 44,
   "id": "bf482511",
   "metadata": {},
   "outputs": [],
   "source": [
    "df=df.drop(['pickup_longitude','pickup_latitude','dropoff_longitude','dropoff_latitude','distance'],axis=1)"
   ]
  },
  {
   "cell_type": "code",
   "execution_count": 45,
   "id": "a1e3612f",
   "metadata": {},
   "outputs": [],
   "source": [
    "df=df.drop(['hour','year'],axis=1)"
   ]
  },
  {
   "cell_type": "code",
   "execution_count": 46,
   "id": "0f54095c",
   "metadata": {},
   "outputs": [
    {
     "data": {
      "text/html": [
       "<div>\n",
       "<style scoped>\n",
       "    .dataframe tbody tr th:only-of-type {\n",
       "        vertical-align: middle;\n",
       "    }\n",
       "\n",
       "    .dataframe tbody tr th {\n",
       "        vertical-align: top;\n",
       "    }\n",
       "\n",
       "    .dataframe thead th {\n",
       "        text-align: right;\n",
       "    }\n",
       "</style>\n",
       "<table border=\"1\" class=\"dataframe\">\n",
       "  <thead>\n",
       "    <tr style=\"text-align: right;\">\n",
       "      <th></th>\n",
       "      <th>fare_amount</th>\n",
       "      <th>passenger_count</th>\n",
       "      <th>session</th>\n",
       "      <th>distance_category</th>\n",
       "    </tr>\n",
       "  </thead>\n",
       "  <tbody>\n",
       "    <tr>\n",
       "      <th>0</th>\n",
       "      <td>7.5</td>\n",
       "      <td>1</td>\n",
       "      <td>Eve</td>\n",
       "      <td>short</td>\n",
       "    </tr>\n",
       "    <tr>\n",
       "      <th>1</th>\n",
       "      <td>7.7</td>\n",
       "      <td>1</td>\n",
       "      <td>Eve</td>\n",
       "      <td>short</td>\n",
       "    </tr>\n",
       "    <tr>\n",
       "      <th>2</th>\n",
       "      <td>12.9</td>\n",
       "      <td>1</td>\n",
       "      <td>Eve</td>\n",
       "      <td>medium</td>\n",
       "    </tr>\n",
       "    <tr>\n",
       "      <th>3</th>\n",
       "      <td>5.3</td>\n",
       "      <td>3</td>\n",
       "      <td>Morning</td>\n",
       "      <td>short</td>\n",
       "    </tr>\n",
       "    <tr>\n",
       "      <th>4</th>\n",
       "      <td>16.0</td>\n",
       "      <td>5</td>\n",
       "      <td>Eve</td>\n",
       "      <td>medium</td>\n",
       "    </tr>\n",
       "    <tr>\n",
       "      <th>5</th>\n",
       "      <td>4.9</td>\n",
       "      <td>1</td>\n",
       "      <td>Morning</td>\n",
       "      <td>short</td>\n",
       "    </tr>\n",
       "    <tr>\n",
       "      <th>6</th>\n",
       "      <td>21.5</td>\n",
       "      <td>5</td>\n",
       "      <td>Morning</td>\n",
       "      <td>long</td>\n",
       "    </tr>\n",
       "    <tr>\n",
       "      <th>7</th>\n",
       "      <td>2.5</td>\n",
       "      <td>1</td>\n",
       "      <td>afterNoon</td>\n",
       "      <td>short</td>\n",
       "    </tr>\n",
       "    <tr>\n",
       "      <th>8</th>\n",
       "      <td>9.7</td>\n",
       "      <td>1</td>\n",
       "      <td>Morning</td>\n",
       "      <td>short</td>\n",
       "    </tr>\n",
       "    <tr>\n",
       "      <th>9</th>\n",
       "      <td>12.5</td>\n",
       "      <td>1</td>\n",
       "      <td>Eve</td>\n",
       "      <td>medium</td>\n",
       "    </tr>\n",
       "    <tr>\n",
       "      <th>10</th>\n",
       "      <td>6.5</td>\n",
       "      <td>1</td>\n",
       "      <td>Eve</td>\n",
       "      <td>short</td>\n",
       "    </tr>\n",
       "    <tr>\n",
       "      <th>11</th>\n",
       "      <td>8.5</td>\n",
       "      <td>1</td>\n",
       "      <td>Eve</td>\n",
       "      <td>short</td>\n",
       "    </tr>\n",
       "    <tr>\n",
       "      <th>12</th>\n",
       "      <td>3.3</td>\n",
       "      <td>5</td>\n",
       "      <td>afterNoon</td>\n",
       "      <td>short</td>\n",
       "    </tr>\n",
       "    <tr>\n",
       "      <th>13</th>\n",
       "      <td>10.9</td>\n",
       "      <td>1</td>\n",
       "      <td>Morning</td>\n",
       "      <td>medium</td>\n",
       "    </tr>\n",
       "    <tr>\n",
       "      <th>14</th>\n",
       "      <td>6.9</td>\n",
       "      <td>1</td>\n",
       "      <td>Eve</td>\n",
       "      <td>short</td>\n",
       "    </tr>\n",
       "    <tr>\n",
       "      <th>15</th>\n",
       "      <td>9.7</td>\n",
       "      <td>2</td>\n",
       "      <td>Morning</td>\n",
       "      <td>short</td>\n",
       "    </tr>\n",
       "    <tr>\n",
       "      <th>16</th>\n",
       "      <td>4.9</td>\n",
       "      <td>1</td>\n",
       "      <td>Morning</td>\n",
       "      <td>short</td>\n",
       "    </tr>\n",
       "    <tr>\n",
       "      <th>17</th>\n",
       "      <td>10.5</td>\n",
       "      <td>2</td>\n",
       "      <td>Eve</td>\n",
       "      <td>short</td>\n",
       "    </tr>\n",
       "    <tr>\n",
       "      <th>18</th>\n",
       "      <td>12.0</td>\n",
       "      <td>1</td>\n",
       "      <td>Morning</td>\n",
       "      <td>short</td>\n",
       "    </tr>\n",
       "    <tr>\n",
       "      <th>19</th>\n",
       "      <td>4.9</td>\n",
       "      <td>1</td>\n",
       "      <td>Morning</td>\n",
       "      <td>short</td>\n",
       "    </tr>\n",
       "  </tbody>\n",
       "</table>\n",
       "</div>"
      ],
      "text/plain": [
       "    fare_amount  passenger_count    session distance_category\n",
       "0           7.5                1        Eve             short\n",
       "1           7.7                1        Eve             short\n",
       "2          12.9                1        Eve            medium\n",
       "3           5.3                3    Morning             short\n",
       "4          16.0                5        Eve            medium\n",
       "5           4.9                1    Morning             short\n",
       "6          21.5                5    Morning              long\n",
       "7           2.5                1  afterNoon             short\n",
       "8           9.7                1    Morning             short\n",
       "9          12.5                1        Eve            medium\n",
       "10          6.5                1        Eve             short\n",
       "11          8.5                1        Eve             short\n",
       "12          3.3                5  afterNoon             short\n",
       "13         10.9                1    Morning            medium\n",
       "14          6.9                1        Eve             short\n",
       "15          9.7                2    Morning             short\n",
       "16          4.9                1    Morning             short\n",
       "17         10.5                2        Eve             short\n",
       "18         12.0                1    Morning             short\n",
       "19          4.9                1    Morning             short"
      ]
     },
     "execution_count": 46,
     "metadata": {},
     "output_type": "execute_result"
    }
   ],
   "source": [
    "df.head(20)"
   ]
  },
  {
   "cell_type": "markdown",
   "id": "fe9baf56",
   "metadata": {},
   "source": [
    "## Visualization"
   ]
  },
  {
   "cell_type": "markdown",
   "id": "8159bd63",
   "metadata": {},
   "source": [
    "### univariate analyses"
   ]
  },
  {
   "cell_type": "code",
   "execution_count": 51,
   "id": "2e3fdc29",
   "metadata": {},
   "outputs": [
    {
     "data": {
      "text/plain": [
       "<Axes: xlabel='session', ylabel='count'>"
      ]
     },
     "execution_count": 51,
     "metadata": {},
     "output_type": "execute_result"
    },
    {
     "data": {
      "image/png": "[encoded data removed]",
      "text/plain": [
       "<Figure size 640x480 with 1 Axes>"
      ]
     },
     "metadata": {},
     "output_type": "display_data"
    }
   ],
   "source": [
    "sns.countplot(x='session',data=df)"
   ]
  },
  {
   "cell_type": "code",
   "execution_count": 54,
   "id": "2842c244",
   "metadata": {},
   "outputs": [
    {
     "data": {
      "text/plain": [
       "<Axes: xlabel='distance_category', ylabel='count'>"
      ]
     },
     "execution_count": 54,
     "metadata": {},
     "output_type": "execute_result"
    },
    {
     "data": {
      "image/png": "[encoded data removed]",
      "text/plain": [
       "<Figure size 640x480 with 1 Axes>"
      ]
     },
     "metadata": {},
     "output_type": "display_data"
    }
   ],
   "source": [
    "sns.countplot(x='distance_category',data=df)"
   ]
  },
  {
   "cell_type": "markdown",
   "id": "f43694a4",
   "metadata": {},
   "source": [
    "### bivariate"
   ]
  },
  {
   "cell_type": "code",
   "execution_count": 56,
   "id": "13346819",
   "metadata": {},
   "outputs": [
    {
     "data": {
      "text/plain": [
       "<Axes: xlabel='session'>"
      ]
     },
     "execution_count": 56,
     "metadata": {},
     "output_type": "execute_result"
    },
    {
     "data": {
      "image/png": "[encoded data removed]",
      "text/plain": [
       "<Figure size 640x480 with 1 Axes>"
      ]
     },
     "metadata": {},
     "output_type": "display_data"
    }
   ],
   "source": [
    "df.groupby(\"session\")['fare_amount'].mean().plot.bar()"
   ]
  },
  {
   "cell_type": "code",
   "execution_count": 57,
   "id": "9c26a6f9",
   "metadata": {},
   "outputs": [
    {
     "data": {
      "text/plain": [
       "<Axes: xlabel='distance_category'>"
      ]
     },
     "execution_count": 57,
     "metadata": {},
     "output_type": "execute_result"
    },
    {
     "data": {
      "image/png": "[encoded data removed]",
      "text/plain": [
       "<Figure size 640x480 with 1 Axes>"
      ]
     },
     "metadata": {},
     "output_type": "display_data"
    }
   ],
   "source": [
    "df.groupby(\"distance_category\")['fare_amount'].mean().plot.bar()"
   ]
  },
  {
   "cell_type": "code",
   "execution_count": 58,
   "id": "7fb5b897",
   "metadata": {},
   "outputs": [
    {
     "data": {
      "text/plain": [
       "<Axes: xlabel='passenger_count'>"
      ]
     },
     "execution_count": 58,
     "metadata": {},
     "output_type": "execute_result"
    },
    {
     "data": {
      "image/png": "[encoded data removed]",
      "text/plain": [
       "<Figure size 640x480 with 1 Axes>"
      ]
     },
     "metadata": {},
     "output_type": "display_data"
    }
   ],
   "source": [
    "df.groupby(\"passenger_count\")['fare_amount'].mean().plot.bar()"
   ]
  },
  {
   "cell_type": "code",
   "execution_count": 61,
   "id": "8cee231e",
   "metadata": {},
   "outputs": [
    {
     "data": {
      "text/plain": [
       "<Axes: xlabel='distance_category', ylabel='fare_amount'>"
      ]
     },
     "execution_count": 61,
     "metadata": {},
     "output_type": "execute_result"
    },
    {
     "data": {
      "image/png": "[encoded data removed]",
      "text/plain": [
       "<Figure size 640x480 with 1 Axes>"
      ]
     },
     "metadata": {},
     "output_type": "display_data"
    }
   ],
   "source": [
    "sns.scatterplot(y='fare_amount',x='distance_category',data=df)"
   ]
  },
  {
   "cell_type": "code",
   "execution_count": 62,
   "id": "311e9b27",
   "metadata": {},
   "outputs": [
    {
     "data": {
      "text/plain": [
       "<Axes: xlabel='session', ylabel='fare_amount'>"
      ]
     },
     "execution_count": 62,
     "metadata": {},
     "output_type": "execute_result"
    },
    {
     "data": {
      "image/png": "[encoded data removed]",
      "text/plain": [
       "<Figure size 640x480 with 1 Axes>"
      ]
     },
     "metadata": {},
     "output_type": "display_data"
    }
   ],
   "source": [
    "sns.scatterplot(y='fare_amount',x='session',data=df)"
   ]
  },
  {
   "cell_type": "code",
   "execution_count": 63,
   "id": "b689ce9e",
   "metadata": {},
   "outputs": [
    {
     "data": {
      "text/plain": [
       "<Axes: xlabel='session', ylabel='fare_amount'>"
      ]
     },
     "execution_count": 63,
     "metadata": {},
     "output_type": "execute_result"
    },
    {
     "data": {
      "image/png": "[encoded data removed]",
      "text/plain": [
       "<Figure size 640x480 with 1 Axes>"
      ]
     },
     "metadata": {},
     "output_type": "display_data"
    }
   ],
   "source": [
    "sns.boxplot(x = 'session', y = 'fare_amount', data = df)"
   ]
  },
  {
   "cell_type": "markdown",
   "id": "23ebceda",
   "metadata": {},
   "source": [
    "### Create dummies for categorical variable"
   ]
  },
  {
   "cell_type": "code",
   "execution_count": 65,
   "id": "1eb230d2",
   "metadata": {},
   "outputs": [],
   "source": [
    "session_dummy = pd.get_dummies(df['session'],drop_first=True)"
   ]
  },
  {
   "cell_type": "code",
   "execution_count": 66,
   "id": "bae83e90",
   "metadata": {},
   "outputs": [
    {
     "data": {
      "text/html": [
       "<div>\n",
       "<style scoped>\n",
       "    .dataframe tbody tr th:only-of-type {\n",
       "        vertical-align: middle;\n",
       "    }\n",
       "\n",
       "    .dataframe tbody tr th {\n",
       "        vertical-align: top;\n",
       "    }\n",
       "\n",
       "    .dataframe thead th {\n",
       "        text-align: right;\n",
       "    }\n",
       "</style>\n",
       "<table border=\"1\" class=\"dataframe\">\n",
       "  <thead>\n",
       "    <tr style=\"text-align: right;\">\n",
       "      <th></th>\n",
       "      <th>afterNoon</th>\n",
       "      <th>Eve</th>\n",
       "    </tr>\n",
       "  </thead>\n",
       "  <tbody>\n",
       "    <tr>\n",
       "      <th>0</th>\n",
       "      <td>0</td>\n",
       "      <td>1</td>\n",
       "    </tr>\n",
       "    <tr>\n",
       "      <th>1</th>\n",
       "      <td>0</td>\n",
       "      <td>1</td>\n",
       "    </tr>\n",
       "    <tr>\n",
       "      <th>2</th>\n",
       "      <td>0</td>\n",
       "      <td>1</td>\n",
       "    </tr>\n",
       "    <tr>\n",
       "      <th>3</th>\n",
       "      <td>0</td>\n",
       "      <td>0</td>\n",
       "    </tr>\n",
       "    <tr>\n",
       "      <th>4</th>\n",
       "      <td>0</td>\n",
       "      <td>1</td>\n",
       "    </tr>\n",
       "    <tr>\n",
       "      <th>...</th>\n",
       "      <td>...</td>\n",
       "      <td>...</td>\n",
       "    </tr>\n",
       "    <tr>\n",
       "      <th>199995</th>\n",
       "      <td>0</td>\n",
       "      <td>0</td>\n",
       "    </tr>\n",
       "    <tr>\n",
       "      <th>199996</th>\n",
       "      <td>0</td>\n",
       "      <td>0</td>\n",
       "    </tr>\n",
       "    <tr>\n",
       "      <th>199997</th>\n",
       "      <td>0</td>\n",
       "      <td>0</td>\n",
       "    </tr>\n",
       "    <tr>\n",
       "      <th>199998</th>\n",
       "      <td>1</td>\n",
       "      <td>0</td>\n",
       "    </tr>\n",
       "    <tr>\n",
       "      <th>199999</th>\n",
       "      <td>0</td>\n",
       "      <td>0</td>\n",
       "    </tr>\n",
       "  </tbody>\n",
       "</table>\n",
       "<p>200000 rows × 2 columns</p>\n",
       "</div>"
      ],
      "text/plain": [
       "        afterNoon  Eve\n",
       "0               0    1\n",
       "1               0    1\n",
       "2               0    1\n",
       "3               0    0\n",
       "4               0    1\n",
       "...           ...  ...\n",
       "199995          0    0\n",
       "199996          0    0\n",
       "199997          0    0\n",
       "199998          1    0\n",
       "199999          0    0\n",
       "\n",
       "[200000 rows x 2 columns]"
      ]
     },
     "execution_count": 66,
     "metadata": {},
     "output_type": "execute_result"
    }
   ],
   "source": [
    "session_dummy"
   ]
  },
  {
   "cell_type": "code",
   "execution_count": 67,
   "id": "60d0bb01",
   "metadata": {},
   "outputs": [],
   "source": [
    "df=pd.concat([df,session_dummy],axis=1)"
   ]
  },
  {
   "cell_type": "code",
   "execution_count": 68,
   "id": "839e8bd0",
   "metadata": {},
   "outputs": [],
   "source": [
    "df=df.drop('session',axis=1)"
   ]
  },
  {
   "cell_type": "code",
   "execution_count": 69,
   "id": "44ea7acb",
   "metadata": {},
   "outputs": [],
   "source": [
    "distance_dummy=pd.get_dummies(df['distance_category'],drop_first=True)\n",
    "df=pd.concat([df,distance_dummy],axis=1)"
   ]
  },
  {
   "cell_type": "code",
   "execution_count": 70,
   "id": "d83b8cbb",
   "metadata": {},
   "outputs": [],
   "source": [
    "df=df.drop('distance_category',axis=1)"
   ]
  },
  {
   "cell_type": "code",
   "execution_count": 71,
   "id": "1118d6b7",
   "metadata": {},
   "outputs": [
    {
     "data": {
      "text/html": [
       "<div>\n",
       "<style scoped>\n",
       "    .dataframe tbody tr th:only-of-type {\n",
       "        vertical-align: middle;\n",
       "    }\n",
       "\n",
       "    .dataframe tbody tr th {\n",
       "        vertical-align: top;\n",
       "    }\n",
       "\n",
       "    .dataframe thead th {\n",
       "        text-align: right;\n",
       "    }\n",
       "</style>\n",
       "<table border=\"1\" class=\"dataframe\">\n",
       "  <thead>\n",
       "    <tr style=\"text-align: right;\">\n",
       "      <th></th>\n",
       "      <th>fare_amount</th>\n",
       "      <th>passenger_count</th>\n",
       "      <th>afterNoon</th>\n",
       "      <th>Eve</th>\n",
       "      <th>medium</th>\n",
       "      <th>long</th>\n",
       "    </tr>\n",
       "  </thead>\n",
       "  <tbody>\n",
       "    <tr>\n",
       "      <th>0</th>\n",
       "      <td>7.5</td>\n",
       "      <td>1</td>\n",
       "      <td>0</td>\n",
       "      <td>1</td>\n",
       "      <td>0</td>\n",
       "      <td>0</td>\n",
       "    </tr>\n",
       "    <tr>\n",
       "      <th>1</th>\n",
       "      <td>7.7</td>\n",
       "      <td>1</td>\n",
       "      <td>0</td>\n",
       "      <td>1</td>\n",
       "      <td>0</td>\n",
       "      <td>0</td>\n",
       "    </tr>\n",
       "    <tr>\n",
       "      <th>2</th>\n",
       "      <td>12.9</td>\n",
       "      <td>1</td>\n",
       "      <td>0</td>\n",
       "      <td>1</td>\n",
       "      <td>1</td>\n",
       "      <td>0</td>\n",
       "    </tr>\n",
       "    <tr>\n",
       "      <th>3</th>\n",
       "      <td>5.3</td>\n",
       "      <td>3</td>\n",
       "      <td>0</td>\n",
       "      <td>0</td>\n",
       "      <td>0</td>\n",
       "      <td>0</td>\n",
       "    </tr>\n",
       "    <tr>\n",
       "      <th>4</th>\n",
       "      <td>16.0</td>\n",
       "      <td>5</td>\n",
       "      <td>0</td>\n",
       "      <td>1</td>\n",
       "      <td>1</td>\n",
       "      <td>0</td>\n",
       "    </tr>\n",
       "    <tr>\n",
       "      <th>...</th>\n",
       "      <td>...</td>\n",
       "      <td>...</td>\n",
       "      <td>...</td>\n",
       "      <td>...</td>\n",
       "      <td>...</td>\n",
       "      <td>...</td>\n",
       "    </tr>\n",
       "    <tr>\n",
       "      <th>199995</th>\n",
       "      <td>3.0</td>\n",
       "      <td>1</td>\n",
       "      <td>0</td>\n",
       "      <td>0</td>\n",
       "      <td>0</td>\n",
       "      <td>0</td>\n",
       "    </tr>\n",
       "    <tr>\n",
       "      <th>199996</th>\n",
       "      <td>7.5</td>\n",
       "      <td>1</td>\n",
       "      <td>0</td>\n",
       "      <td>0</td>\n",
       "      <td>0</td>\n",
       "      <td>0</td>\n",
       "    </tr>\n",
       "    <tr>\n",
       "      <th>199997</th>\n",
       "      <td>21.5</td>\n",
       "      <td>2</td>\n",
       "      <td>0</td>\n",
       "      <td>0</td>\n",
       "      <td>0</td>\n",
       "      <td>1</td>\n",
       "    </tr>\n",
       "    <tr>\n",
       "      <th>199998</th>\n",
       "      <td>14.5</td>\n",
       "      <td>1</td>\n",
       "      <td>1</td>\n",
       "      <td>0</td>\n",
       "      <td>1</td>\n",
       "      <td>0</td>\n",
       "    </tr>\n",
       "    <tr>\n",
       "      <th>199999</th>\n",
       "      <td>14.1</td>\n",
       "      <td>1</td>\n",
       "      <td>0</td>\n",
       "      <td>0</td>\n",
       "      <td>1</td>\n",
       "      <td>0</td>\n",
       "    </tr>\n",
       "  </tbody>\n",
       "</table>\n",
       "<p>200000 rows × 6 columns</p>\n",
       "</div>"
      ],
      "text/plain": [
       "        fare_amount  passenger_count  afterNoon  Eve  medium  long\n",
       "0               7.5                1          0    1       0     0\n",
       "1               7.7                1          0    1       0     0\n",
       "2              12.9                1          0    1       1     0\n",
       "3               5.3                3          0    0       0     0\n",
       "4              16.0                5          0    1       1     0\n",
       "...             ...              ...        ...  ...     ...   ...\n",
       "199995          3.0                1          0    0       0     0\n",
       "199996          7.5                1          0    0       0     0\n",
       "199997         21.5                2          0    0       0     1\n",
       "199998         14.5                1          1    0       1     0\n",
       "199999         14.1                1          0    0       1     0\n",
       "\n",
       "[200000 rows x 6 columns]"
      ]
     },
     "execution_count": 71,
     "metadata": {},
     "output_type": "execute_result"
    }
   ],
   "source": [
    "df"
   ]
  },
  {
   "cell_type": "code",
   "execution_count": 72,
   "id": "22336f7e",
   "metadata": {},
   "outputs": [
    {
     "data": {
      "text/html": [
       "<div>\n",
       "<style scoped>\n",
       "    .dataframe tbody tr th:only-of-type {\n",
       "        vertical-align: middle;\n",
       "    }\n",
       "\n",
       "    .dataframe tbody tr th {\n",
       "        vertical-align: top;\n",
       "    }\n",
       "\n",
       "    .dataframe thead th {\n",
       "        text-align: right;\n",
       "    }\n",
       "</style>\n",
       "<table border=\"1\" class=\"dataframe\">\n",
       "  <thead>\n",
       "    <tr style=\"text-align: right;\">\n",
       "      <th></th>\n",
       "      <th>fare_amount</th>\n",
       "      <th>passenger_count</th>\n",
       "      <th>afterNoon</th>\n",
       "      <th>Eve</th>\n",
       "      <th>medium</th>\n",
       "      <th>long</th>\n",
       "    </tr>\n",
       "  </thead>\n",
       "  <tbody>\n",
       "    <tr>\n",
       "      <th>fare_amount</th>\n",
       "      <td>1.000000</td>\n",
       "      <td>0.013734</td>\n",
       "      <td>0.000369</td>\n",
       "      <td>-0.011899</td>\n",
       "      <td>0.451646</td>\n",
       "      <td>0.571166</td>\n",
       "    </tr>\n",
       "    <tr>\n",
       "      <th>passenger_count</th>\n",
       "      <td>0.013734</td>\n",
       "      <td>1.000000</td>\n",
       "      <td>0.000378</td>\n",
       "      <td>0.019067</td>\n",
       "      <td>0.004637</td>\n",
       "      <td>0.004785</td>\n",
       "    </tr>\n",
       "    <tr>\n",
       "      <th>afterNoon</th>\n",
       "      <td>0.000369</td>\n",
       "      <td>0.000378</td>\n",
       "      <td>1.000000</td>\n",
       "      <td>-0.387252</td>\n",
       "      <td>-0.051268</td>\n",
       "      <td>0.012968</td>\n",
       "    </tr>\n",
       "    <tr>\n",
       "      <th>Eve</th>\n",
       "      <td>-0.011899</td>\n",
       "      <td>0.019067</td>\n",
       "      <td>-0.387252</td>\n",
       "      <td>1.000000</td>\n",
       "      <td>0.022876</td>\n",
       "      <td>-0.023828</td>\n",
       "    </tr>\n",
       "    <tr>\n",
       "      <th>medium</th>\n",
       "      <td>0.451646</td>\n",
       "      <td>0.004637</td>\n",
       "      <td>-0.051268</td>\n",
       "      <td>0.022876</td>\n",
       "      <td>1.000000</td>\n",
       "      <td>-0.146091</td>\n",
       "    </tr>\n",
       "    <tr>\n",
       "      <th>long</th>\n",
       "      <td>0.571166</td>\n",
       "      <td>0.004785</td>\n",
       "      <td>0.012968</td>\n",
       "      <td>-0.023828</td>\n",
       "      <td>-0.146091</td>\n",
       "      <td>1.000000</td>\n",
       "    </tr>\n",
       "  </tbody>\n",
       "</table>\n",
       "</div>"
      ],
      "text/plain": [
       "                 fare_amount  passenger_count  afterNoon       Eve    medium  \\\n",
       "fare_amount         1.000000         0.013734   0.000369 -0.011899  0.451646   \n",
       "passenger_count     0.013734         1.000000   0.000378  0.019067  0.004637   \n",
       "afterNoon           0.000369         0.000378   1.000000 -0.387252 -0.051268   \n",
       "Eve                -0.011899         0.019067  -0.387252  1.000000  0.022876   \n",
       "medium              0.451646         0.004637  -0.051268  0.022876  1.000000   \n",
       "long                0.571166         0.004785   0.012968 -0.023828 -0.146091   \n",
       "\n",
       "                     long  \n",
       "fare_amount      0.571166  \n",
       "passenger_count  0.004785  \n",
       "afterNoon        0.012968  \n",
       "Eve             -0.023828  \n",
       "medium          -0.146091  \n",
       "long             1.000000  "
      ]
     },
     "execution_count": 72,
     "metadata": {},
     "output_type": "execute_result"
    }
   ],
   "source": [
    "df.corr()"
   ]
  },
  {
   "cell_type": "code",
   "execution_count": 73,
   "id": "f61891ec",
   "metadata": {},
   "outputs": [
    {
     "data": {
      "text/plain": [
       "<Axes: >"
      ]
     },
     "execution_count": 73,
     "metadata": {},
     "output_type": "execute_result"
    },
    {
     "data": {
      "image/png": "[encoded data removed]",
      "text/plain": [
       "<Figure size 640x480 with 2 Axes>"
      ]
     },
     "metadata": {},
     "output_type": "display_data"
    }
   ],
   "source": [
    "sns.heatmap(df.corr(),annot=True, cmap='coolwarm')"
   ]
  },
  {
   "cell_type": "markdown",
   "id": "508c77af",
   "metadata": {},
   "source": [
    "### train test split "
   ]
  },
  {
   "cell_type": "code",
   "execution_count": 74,
   "id": "e7375f4b",
   "metadata": {},
   "outputs": [],
   "source": [
    "from sklearn.model_selection import train_test_split\n",
    "df_train,df_test=train_test_split(df,test_size=0.3,train_size=0.7,random_state=100)"
   ]
  },
  {
   "cell_type": "code",
   "execution_count": 75,
   "id": "ae1ed321",
   "metadata": {},
   "outputs": [
    {
     "data": {
      "text/plain": [
       "(140000, 6)"
      ]
     },
     "execution_count": 75,
     "metadata": {},
     "output_type": "execute_result"
    }
   ],
   "source": [
    "df_train.shape"
   ]
  },
  {
   "cell_type": "code",
   "execution_count": 76,
   "id": "ec3dc07a",
   "metadata": {},
   "outputs": [
    {
     "data": {
      "text/plain": [
       "(60000, 6)"
      ]
     },
     "execution_count": 76,
     "metadata": {},
     "output_type": "execute_result"
    }
   ],
   "source": [
    "df_test.shape"
   ]
  },
  {
   "cell_type": "markdown",
   "id": "de51a6c8",
   "metadata": {},
   "source": [
    "### standardization"
   ]
  },
  {
   "cell_type": "code",
   "execution_count": 77,
   "id": "62f4d357",
   "metadata": {},
   "outputs": [],
   "source": [
    "from sklearn.preprocessing import StandardScaler\n",
    "scaler=StandardScaler()"
   ]
  },
  {
   "cell_type": "code",
   "execution_count": 78,
   "id": "139c3132",
   "metadata": {},
   "outputs": [],
   "source": [
    "col=['fare_amount','passenger_count']\n",
    "df_train[col]=scaler.fit_transform(df_train[col])\n",
    "df_test[col]=scaler.transform(df_test[col])"
   ]
  },
  {
   "cell_type": "code",
   "execution_count": 79,
   "id": "c0cfeef3",
   "metadata": {},
   "outputs": [
    {
     "data": {
      "text/plain": [
       "<Axes: >"
      ]
     },
     "execution_count": 79,
     "metadata": {},
     "output_type": "execute_result"
    },
    {
     "data": {
      "image/png": "[encoded data removed]",
      "text/plain": [
       "<Figure size 640x480 with 2 Axes>"
      ]
     },
     "metadata": {},
     "output_type": "display_data"
    }
   ],
   "source": [
    "sns.heatmap(df_train.corr(), annot = True, cmap=\"YlGnBu\",fmt=\".2f\")"
   ]
  },
  {
   "cell_type": "markdown",
   "id": "5b420fd9",
   "metadata": {},
   "source": [
    "### correlation analysis"
   ]
  },
  {
   "cell_type": "markdown",
   "id": "f332e6c5",
   "metadata": {},
   "source": [
    "### From the correlation matrix  we conclude that \n",
    "1:Medium and long distance are positivelt correlated with the target variable.\n",
    "2Afternoon and evening time are negatively correlated with the target variable.\n",
    "3:Passenger count is very less but positevely correlated with target variable."
   ]
  },
  {
   "cell_type": "markdown",
   "id": "27eccede",
   "metadata": {},
   "source": [
    "## Dividing the data set in to X and Y"
   ]
  },
  {
   "cell_type": "code",
   "execution_count": 80,
   "id": "d8faa4f1",
   "metadata": {},
   "outputs": [],
   "source": [
    "y_train = df_train.pop('fare_amount')\n",
    "X_train = df_train"
   ]
  },
  {
   "cell_type": "code",
   "execution_count": 82,
   "id": "ed524f15",
   "metadata": {},
   "outputs": [
    {
     "data": {
      "text/html": [
       "<div>\n",
       "<style scoped>\n",
       "    .dataframe tbody tr th:only-of-type {\n",
       "        vertical-align: middle;\n",
       "    }\n",
       "\n",
       "    .dataframe tbody tr th {\n",
       "        vertical-align: top;\n",
       "    }\n",
       "\n",
       "    .dataframe thead th {\n",
       "        text-align: right;\n",
       "    }\n",
       "</style>\n",
       "<table border=\"1\" class=\"dataframe\">\n",
       "  <thead>\n",
       "    <tr style=\"text-align: right;\">\n",
       "      <th></th>\n",
       "      <th>passenger_count</th>\n",
       "      <th>afterNoon</th>\n",
       "      <th>Eve</th>\n",
       "      <th>medium</th>\n",
       "      <th>long</th>\n",
       "    </tr>\n",
       "  </thead>\n",
       "  <tbody>\n",
       "    <tr>\n",
       "      <th>195896</th>\n",
       "      <td>0.931428</td>\n",
       "      <td>0</td>\n",
       "      <td>0</td>\n",
       "      <td>0</td>\n",
       "      <td>0</td>\n",
       "    </tr>\n",
       "    <tr>\n",
       "      <th>47114</th>\n",
       "      <td>0.224937</td>\n",
       "      <td>1</td>\n",
       "      <td>0</td>\n",
       "      <td>1</td>\n",
       "      <td>0</td>\n",
       "    </tr>\n",
       "    <tr>\n",
       "      <th>144875</th>\n",
       "      <td>-0.481554</td>\n",
       "      <td>0</td>\n",
       "      <td>0</td>\n",
       "      <td>0</td>\n",
       "      <td>0</td>\n",
       "    </tr>\n",
       "    <tr>\n",
       "      <th>184791</th>\n",
       "      <td>0.224937</td>\n",
       "      <td>0</td>\n",
       "      <td>1</td>\n",
       "      <td>0</td>\n",
       "      <td>0</td>\n",
       "    </tr>\n",
       "    <tr>\n",
       "      <th>123269</th>\n",
       "      <td>0.224937</td>\n",
       "      <td>0</td>\n",
       "      <td>0</td>\n",
       "      <td>0</td>\n",
       "      <td>0</td>\n",
       "    </tr>\n",
       "    <tr>\n",
       "      <th>...</th>\n",
       "      <td>...</td>\n",
       "      <td>...</td>\n",
       "      <td>...</td>\n",
       "      <td>...</td>\n",
       "      <td>...</td>\n",
       "    </tr>\n",
       "    <tr>\n",
       "      <th>194442</th>\n",
       "      <td>-0.481554</td>\n",
       "      <td>0</td>\n",
       "      <td>1</td>\n",
       "      <td>0</td>\n",
       "      <td>0</td>\n",
       "    </tr>\n",
       "    <tr>\n",
       "      <th>65615</th>\n",
       "      <td>0.224937</td>\n",
       "      <td>0</td>\n",
       "      <td>1</td>\n",
       "      <td>0</td>\n",
       "      <td>0</td>\n",
       "    </tr>\n",
       "    <tr>\n",
       "      <th>77655</th>\n",
       "      <td>-0.481554</td>\n",
       "      <td>0</td>\n",
       "      <td>0</td>\n",
       "      <td>0</td>\n",
       "      <td>0</td>\n",
       "    </tr>\n",
       "    <tr>\n",
       "      <th>56088</th>\n",
       "      <td>-0.481554</td>\n",
       "      <td>0</td>\n",
       "      <td>1</td>\n",
       "      <td>0</td>\n",
       "      <td>0</td>\n",
       "    </tr>\n",
       "    <tr>\n",
       "      <th>38408</th>\n",
       "      <td>0.224937</td>\n",
       "      <td>0</td>\n",
       "      <td>1</td>\n",
       "      <td>0</td>\n",
       "      <td>0</td>\n",
       "    </tr>\n",
       "  </tbody>\n",
       "</table>\n",
       "<p>140000 rows × 5 columns</p>\n",
       "</div>"
      ],
      "text/plain": [
       "        passenger_count  afterNoon  Eve  medium  long\n",
       "195896         0.931428          0    0       0     0\n",
       "47114          0.224937          1    0       1     0\n",
       "144875        -0.481554          0    0       0     0\n",
       "184791         0.224937          0    1       0     0\n",
       "123269         0.224937          0    0       0     0\n",
       "...                 ...        ...  ...     ...   ...\n",
       "194442        -0.481554          0    1       0     0\n",
       "65615          0.224937          0    1       0     0\n",
       "77655         -0.481554          0    0       0     0\n",
       "56088         -0.481554          0    1       0     0\n",
       "38408          0.224937          0    1       0     0\n",
       "\n",
       "[140000 rows x 5 columns]"
      ]
     },
     "execution_count": 82,
     "metadata": {},
     "output_type": "execute_result"
    }
   ],
   "source": [
    "X_train"
   ]
  },
  {
   "cell_type": "code",
   "execution_count": 84,
   "id": "e63e6be1",
   "metadata": {},
   "outputs": [
    {
     "data": {
      "text/plain": [
       "195896   -0.379462\n",
       "47114     0.621619\n",
       "144875   -1.040553\n",
       "184791   -1.134994\n",
       "123269   -0.568345\n",
       "            ...   \n",
       "194442    0.092746\n",
       "65615    -0.360573\n",
       "77655     0.848279\n",
       "56088     0.546066\n",
       "38408     0.168299\n",
       "Name: fare_amount, Length: 140000, dtype: float64"
      ]
     },
     "execution_count": 84,
     "metadata": {},
     "output_type": "execute_result"
    }
   ],
   "source": [
    "y_train"
   ]
  },
  {
   "cell_type": "markdown",
   "id": "368bce0d",
   "metadata": {},
   "source": [
    "## Building the regression model"
   ]
  },
  {
   "cell_type": "markdown",
   "id": "c09183c2",
   "metadata": {},
   "source": [
    "### Fit a regression line through the training data using statsmodels. Remember that in statsmodels, you need to explicitly fit a constant using sm.add_constant(X) because if we don't perform this step, statsmodels fits a regression line passing through the origin, by default."
   ]
  },
  {
   "cell_type": "code",
   "execution_count": 85,
   "id": "a6de4ba1",
   "metadata": {},
   "outputs": [],
   "source": [
    "import statsmodels.api as sm\n",
    "x_train=X_train[['medium','long']]\n",
    "# Add a constant\n",
    "X_train_lm = sm.add_constant(x_train)\n",
    "\n",
    "# Create a first fitted model\n",
    "lr = sm.OLS(y_train, X_train_lm).fit()"
   ]
  },
  {
   "cell_type": "code",
   "execution_count": 86,
   "id": "64801032",
   "metadata": {},
   "outputs": [
    {
     "data": {
      "text/plain": [
       "const    -0.466331\n",
       "medium    1.341521\n",
       "long      2.492033\n",
       "dtype: float64"
      ]
     },
     "execution_count": 86,
     "metadata": {},
     "output_type": "execute_result"
    }
   ],
   "source": [
    "lr.params"
   ]
  },
  {
   "cell_type": "code",
   "execution_count": 87,
   "id": "4de9c339",
   "metadata": {},
   "outputs": [
    {
     "name": "stdout",
     "output_type": "stream",
     "text": [
      "                            OLS Regression Results                            \n",
      "==============================================================================\n",
      "Dep. Variable:            fare_amount   R-squared:                       0.620\n",
      "Model:                            OLS   Adj. R-squared:                  0.620\n",
      "Method:                 Least Squares   F-statistic:                 1.142e+05\n",
      "Date:                Fri, 26 Apr 2024   Prob (F-statistic):               0.00\n",
      "Time:                        01:35:25   Log-Likelihood:            -1.3092e+05\n",
      "No. Observations:              140000   AIC:                         2.618e+05\n",
      "Df Residuals:                  139997   BIC:                         2.619e+05\n",
      "Df Model:                           2                                         \n",
      "Covariance Type:            nonrobust                                         \n",
      "==============================================================================\n",
      "                 coef    std err          t      P>|t|      [0.025      0.975]\n",
      "------------------------------------------------------------------------------\n",
      "const         -0.4663      0.002   -239.470      0.000      -0.470      -0.463\n",
      "medium         1.3415      0.004    328.309      0.000       1.334       1.350\n",
      "long           2.4920      0.006    391.482      0.000       2.480       2.505\n",
      "==============================================================================\n",
      "Omnibus:                    21690.451   Durbin-Watson:                   1.994\n",
      "Prob(Omnibus):                  0.000   Jarque-Bera (JB):            66778.575\n",
      "Skew:                           0.810   Prob(JB):                         0.00\n",
      "Kurtosis:                       5.971   Cond. No.                         4.03\n",
      "==============================================================================\n",
      "\n",
      "Notes:\n",
      "[1] Standard Errors assume that the covariance matrix of the errors is correctly specified.\n"
     ]
    }
   ],
   "source": [
    "print(lr.summary())"
   ]
  },
  {
   "cell_type": "code",
   "execution_count": 88,
   "id": "9436e25c",
   "metadata": {},
   "outputs": [],
   "source": [
    "\n",
    "# Add a constant\n",
    "X_train_lm = sm.add_constant(X_train)\n",
    "\n",
    "# Create a first fitted model\n",
    "lr = sm.OLS(y_train, X_train_lm).fit()"
   ]
  },
  {
   "cell_type": "code",
   "execution_count": 89,
   "id": "b7a0c145",
   "metadata": {},
   "outputs": [
    {
     "data": {
      "text/plain": [
       "const             -0.474512\n",
       "passenger_count    0.008997\n",
       "afterNoon          0.045085\n",
       "Eve               -0.001768\n",
       "medium             1.343455\n",
       "long               2.491467\n",
       "dtype: float64"
      ]
     },
     "execution_count": 89,
     "metadata": {},
     "output_type": "execute_result"
    }
   ],
   "source": [
    "lr.params"
   ]
  },
  {
   "cell_type": "code",
   "execution_count": 90,
   "id": "42993d12",
   "metadata": {},
   "outputs": [
    {
     "data": {
      "text/html": [
       "<table class=\"simpletable\">\n",
       "<caption>OLS Regression Results</caption>\n",
       "<tr>\n",
       "  <th>Dep. Variable:</th>       <td>fare_amount</td>   <th>  R-squared:         </th>  <td>   0.620</td>  \n",
       "</tr>\n",
       "<tr>\n",
       "  <th>Model:</th>                   <td>OLS</td>       <th>  Adj. R-squared:    </th>  <td>   0.620</td>  \n",
       "</tr>\n",
       "<tr>\n",
       "  <th>Method:</th>             <td>Least Squares</td>  <th>  F-statistic:       </th>  <td>4.576e+04</td> \n",
       "</tr>\n",
       "<tr>\n",
       "  <th>Date:</th>             <td>Fri, 26 Apr 2024</td> <th>  Prob (F-statistic):</th>   <td>  0.00</td>   \n",
       "</tr>\n",
       "<tr>\n",
       "  <th>Time:</th>                 <td>01:37:32</td>     <th>  Log-Likelihood:    </th> <td>-1.3084e+05</td>\n",
       "</tr>\n",
       "<tr>\n",
       "  <th>No. Observations:</th>      <td>140000</td>      <th>  AIC:               </th>  <td>2.617e+05</td> \n",
       "</tr>\n",
       "<tr>\n",
       "  <th>Df Residuals:</th>          <td>139994</td>      <th>  BIC:               </th>  <td>2.618e+05</td> \n",
       "</tr>\n",
       "<tr>\n",
       "  <th>Df Model:</th>              <td>     5</td>      <th>                     </th>      <td> </td>     \n",
       "</tr>\n",
       "<tr>\n",
       "  <th>Covariance Type:</th>      <td>nonrobust</td>    <th>                     </th>      <td> </td>     \n",
       "</tr>\n",
       "</table>\n",
       "<table class=\"simpletable\">\n",
       "<tr>\n",
       "         <td></td>            <th>coef</th>     <th>std err</th>      <th>t</th>      <th>P>|t|</th>  <th>[0.025</th>    <th>0.975]</th>  \n",
       "</tr>\n",
       "<tr>\n",
       "  <th>const</th>           <td>   -0.4745</td> <td>    0.003</td> <td> -171.496</td> <td> 0.000</td> <td>   -0.480</td> <td>   -0.469</td>\n",
       "</tr>\n",
       "<tr>\n",
       "  <th>passenger_count</th> <td>    0.0090</td> <td>    0.002</td> <td>    5.462</td> <td> 0.000</td> <td>    0.006</td> <td>    0.012</td>\n",
       "</tr>\n",
       "<tr>\n",
       "  <th>afterNoon</th>       <td>    0.0451</td> <td>    0.005</td> <td>    9.865</td> <td> 0.000</td> <td>    0.036</td> <td>    0.054</td>\n",
       "</tr>\n",
       "<tr>\n",
       "  <th>Eve</th>             <td>   -0.0018</td> <td>    0.004</td> <td>   -0.483</td> <td> 0.629</td> <td>   -0.009</td> <td>    0.005</td>\n",
       "</tr>\n",
       "<tr>\n",
       "  <th>medium</th>          <td>    1.3435</td> <td>    0.004</td> <td>  328.574</td> <td> 0.000</td> <td>    1.335</td> <td>    1.351</td>\n",
       "</tr>\n",
       "<tr>\n",
       "  <th>long</th>            <td>    2.4915</td> <td>    0.006</td> <td>  391.516</td> <td> 0.000</td> <td>    2.479</td> <td>    2.504</td>\n",
       "</tr>\n",
       "</table>\n",
       "<table class=\"simpletable\">\n",
       "<tr>\n",
       "  <th>Omnibus:</th>       <td>21689.605</td> <th>  Durbin-Watson:     </th> <td>   1.994</td> \n",
       "</tr>\n",
       "<tr>\n",
       "  <th>Prob(Omnibus):</th>  <td> 0.000</td>   <th>  Jarque-Bera (JB):  </th> <td>66964.924</td>\n",
       "</tr>\n",
       "<tr>\n",
       "  <th>Skew:</th>           <td> 0.809</td>   <th>  Prob(JB):          </th> <td>    0.00</td> \n",
       "</tr>\n",
       "<tr>\n",
       "  <th>Kurtosis:</th>       <td> 5.977</td>   <th>  Cond. No.          </th> <td>    4.44</td> \n",
       "</tr>\n",
       "</table><br/><br/>Notes:<br/>[1] Standard Errors assume that the covariance matrix of the errors is correctly specified."
      ],
      "text/latex": [
       "\\begin{center}\n",
       "\\begin{tabular}{lclc}\n",
       "\\toprule\n",
       "\\textbf{Dep. Variable:}    &   fare\\_amount   & \\textbf{  R-squared:         } &      0.620   \\\\\n",
       "\\textbf{Model:}            &       OLS        & \\textbf{  Adj. R-squared:    } &      0.620   \\\\\n",
       "\\textbf{Method:}           &  Least Squares   & \\textbf{  F-statistic:       } &  4.576e+04   \\\\\n",
       "\\textbf{Date:}             & Fri, 26 Apr 2024 & \\textbf{  Prob (F-statistic):} &      0.00    \\\\\n",
       "\\textbf{Time:}             &     01:37:32     & \\textbf{  Log-Likelihood:    } & -1.3084e+05  \\\\\n",
       "\\textbf{No. Observations:} &      140000      & \\textbf{  AIC:               } &  2.617e+05   \\\\\n",
       "\\textbf{Df Residuals:}     &      139994      & \\textbf{  BIC:               } &  2.618e+05   \\\\\n",
       "\\textbf{Df Model:}         &           5      & \\textbf{                     } &              \\\\\n",
       "\\textbf{Covariance Type:}  &    nonrobust     & \\textbf{                     } &              \\\\\n",
       "\\bottomrule\n",
       "\\end{tabular}\n",
       "\\begin{tabular}{lcccccc}\n",
       "                          & \\textbf{coef} & \\textbf{std err} & \\textbf{t} & \\textbf{P$> |$t$|$} & \\textbf{[0.025} & \\textbf{0.975]}  \\\\\n",
       "\\midrule\n",
       "\\textbf{const}            &      -0.4745  &        0.003     &  -171.496  &         0.000        &       -0.480    &       -0.469     \\\\\n",
       "\\textbf{passenger\\_count} &       0.0090  &        0.002     &     5.462  &         0.000        &        0.006    &        0.012     \\\\\n",
       "\\textbf{afterNoon}        &       0.0451  &        0.005     &     9.865  &         0.000        &        0.036    &        0.054     \\\\\n",
       "\\textbf{Eve}              &      -0.0018  &        0.004     &    -0.483  &         0.629        &       -0.009    &        0.005     \\\\\n",
       "\\textbf{medium}           &       1.3435  &        0.004     &   328.574  &         0.000        &        1.335    &        1.351     \\\\\n",
       "\\textbf{long}             &       2.4915  &        0.006     &   391.516  &         0.000        &        2.479    &        2.504     \\\\\n",
       "\\bottomrule\n",
       "\\end{tabular}\n",
       "\\begin{tabular}{lclc}\n",
       "\\textbf{Omnibus:}       & 21689.605 & \\textbf{  Durbin-Watson:     } &     1.994  \\\\\n",
       "\\textbf{Prob(Omnibus):} &    0.000  & \\textbf{  Jarque-Bera (JB):  } & 66964.924  \\\\\n",
       "\\textbf{Skew:}          &    0.809  & \\textbf{  Prob(JB):          } &      0.00  \\\\\n",
       "\\textbf{Kurtosis:}      &    5.977  & \\textbf{  Cond. No.          } &      4.44  \\\\\n",
       "\\bottomrule\n",
       "\\end{tabular}\n",
       "%\\caption{OLS Regression Results}\n",
       "\\end{center}\n",
       "\n",
       "Notes: \\newline\n",
       " [1] Standard Errors assume that the covariance matrix of the errors is correctly specified."
      ],
      "text/plain": [
       "<class 'statsmodels.iolib.summary.Summary'>\n",
       "\"\"\"\n",
       "                            OLS Regression Results                            \n",
       "==============================================================================\n",
       "Dep. Variable:            fare_amount   R-squared:                       0.620\n",
       "Model:                            OLS   Adj. R-squared:                  0.620\n",
       "Method:                 Least Squares   F-statistic:                 4.576e+04\n",
       "Date:                Fri, 26 Apr 2024   Prob (F-statistic):               0.00\n",
       "Time:                        01:37:32   Log-Likelihood:            -1.3084e+05\n",
       "No. Observations:              140000   AIC:                         2.617e+05\n",
       "Df Residuals:                  139994   BIC:                         2.618e+05\n",
       "Df Model:                           5                                         \n",
       "Covariance Type:            nonrobust                                         \n",
       "===================================================================================\n",
       "                      coef    std err          t      P>|t|      [0.025      0.975]\n",
       "-----------------------------------------------------------------------------------\n",
       "const              -0.4745      0.003   -171.496      0.000      -0.480      -0.469\n",
       "passenger_count     0.0090      0.002      5.462      0.000       0.006       0.012\n",
       "afterNoon           0.0451      0.005      9.865      0.000       0.036       0.054\n",
       "Eve                -0.0018      0.004     -0.483      0.629      -0.009       0.005\n",
       "medium              1.3435      0.004    328.574      0.000       1.335       1.351\n",
       "long                2.4915      0.006    391.516      0.000       2.479       2.504\n",
       "==============================================================================\n",
       "Omnibus:                    21689.605   Durbin-Watson:                   1.994\n",
       "Prob(Omnibus):                  0.000   Jarque-Bera (JB):            66964.924\n",
       "Skew:                           0.809   Prob(JB):                         0.00\n",
       "Kurtosis:                       5.977   Cond. No.                         4.44\n",
       "==============================================================================\n",
       "\n",
       "Notes:\n",
       "[1] Standard Errors assume that the covariance matrix of the errors is correctly specified.\n",
       "\"\"\""
      ]
     },
     "execution_count": 90,
     "metadata": {},
     "output_type": "execute_result"
    }
   ],
   "source": [
    "lr.summary()"
   ]
  },
  {
   "cell_type": "markdown",
   "id": "e380c5dc",
   "metadata": {},
   "source": [
    "### checking VIF"
   ]
  },
  {
   "cell_type": "code",
   "execution_count": 91,
   "id": "e8ce9a7d",
   "metadata": {},
   "outputs": [],
   "source": [
    "from statsmodels.stats.outliers_influence import variance_inflation_factor"
   ]
  },
  {
   "cell_type": "code",
   "execution_count": 92,
   "id": "e52d6646",
   "metadata": {},
   "outputs": [
    {
     "data": {
      "text/html": [
       "<div>\n",
       "<style scoped>\n",
       "    .dataframe tbody tr th:only-of-type {\n",
       "        vertical-align: middle;\n",
       "    }\n",
       "\n",
       "    .dataframe tbody tr th {\n",
       "        vertical-align: top;\n",
       "    }\n",
       "\n",
       "    .dataframe thead th {\n",
       "        text-align: right;\n",
       "    }\n",
       "</style>\n",
       "<table border=\"1\" class=\"dataframe\">\n",
       "  <thead>\n",
       "    <tr style=\"text-align: right;\">\n",
       "      <th></th>\n",
       "      <th>Features</th>\n",
       "      <th>VIF</th>\n",
       "    </tr>\n",
       "  </thead>\n",
       "  <tbody>\n",
       "    <tr>\n",
       "      <th>2</th>\n",
       "      <td>Eve</td>\n",
       "      <td>1.14</td>\n",
       "    </tr>\n",
       "    <tr>\n",
       "      <th>3</th>\n",
       "      <td>medium</td>\n",
       "      <td>1.14</td>\n",
       "    </tr>\n",
       "    <tr>\n",
       "      <th>1</th>\n",
       "      <td>afterNoon</td>\n",
       "      <td>1.05</td>\n",
       "    </tr>\n",
       "    <tr>\n",
       "      <th>4</th>\n",
       "      <td>long</td>\n",
       "      <td>1.05</td>\n",
       "    </tr>\n",
       "    <tr>\n",
       "      <th>0</th>\n",
       "      <td>passenger_count</td>\n",
       "      <td>1.00</td>\n",
       "    </tr>\n",
       "  </tbody>\n",
       "</table>\n",
       "</div>"
      ],
      "text/plain": [
       "          Features   VIF\n",
       "2              Eve  1.14\n",
       "3           medium  1.14\n",
       "1        afterNoon  1.05\n",
       "4             long  1.05\n",
       "0  passenger_count  1.00"
      ]
     },
     "execution_count": 92,
     "metadata": {},
     "output_type": "execute_result"
    }
   ],
   "source": [
    "# Create a dataframe that will contain the names of all the feature variables and their respective VIFs\n",
    "vif = pd.DataFrame()\n",
    "vif['Features'] = X_train.columns\n",
    "vif['VIF'] = [variance_inflation_factor(X_train.values, i) for i in range(X_train.shape[1])]\n",
    "vif['VIF'] = round(vif['VIF'], 2)\n",
    "vif = vif.sort_values(by = \"VIF\", ascending = False)\n",
    "vif"
   ]
  },
  {
   "cell_type": "markdown",
   "id": "6fda359b",
   "metadata": {},
   "source": [
    "#### We generally want a VIF that is less than 5. So there are clearly some variables we need to drop"
   ]
  },
  {
   "cell_type": "markdown",
   "id": "43ec511e",
   "metadata": {},
   "source": [
    "#### As you can see from the summary and the VIF dataframe, some variables are still insignificant. One of these variables is, Eve as it has a very high p-value of 0.629. Let's go ahead and drop this variables"
   ]
  },
  {
   "cell_type": "markdown",
   "id": "4956ebb7",
   "metadata": {},
   "source": [
    "### Drop the Eve variable and build the new model"
   ]
  },
  {
   "cell_type": "code",
   "execution_count": 93,
   "id": "5638a343",
   "metadata": {},
   "outputs": [
    {
     "name": "stderr",
     "output_type": "stream",
     "text": [
      "C:\\Users\\Sony\\AppData\\Local\\Temp\\ipykernel_3544\\2134575768.py:1: FutureWarning: In a future version of pandas all arguments of DataFrame.drop except for the argument 'labels' will be keyword-only.\n",
      "  x = X_train.drop('Eve', 1,)\n"
     ]
    }
   ],
   "source": [
    "x = X_train.drop('Eve', 1,)"
   ]
  },
  {
   "cell_type": "code",
   "execution_count": 95,
   "id": "64bdce0e",
   "metadata": {},
   "outputs": [],
   "source": [
    "X_train_lm = sm.add_constant(x)\n",
    "\n",
    "# Create a first fitted model\n",
    "lr = sm.OLS(y_train, X_train_lm).fit()"
   ]
  },
  {
   "cell_type": "code",
   "execution_count": 96,
   "id": "8508e4fd",
   "metadata": {},
   "outputs": [
    {
     "data": {
      "text/plain": [
       "const             -0.475372\n",
       "passenger_count    0.008979\n",
       "afterNoon          0.045940\n",
       "medium             1.343454\n",
       "long               2.491526\n",
       "dtype: float64"
      ]
     },
     "execution_count": 96,
     "metadata": {},
     "output_type": "execute_result"
    }
   ],
   "source": [
    "lr.params"
   ]
  },
  {
   "cell_type": "code",
   "execution_count": 97,
   "id": "42209973",
   "metadata": {},
   "outputs": [
    {
     "data": {
      "text/html": [
       "<table class=\"simpletable\">\n",
       "<caption>OLS Regression Results</caption>\n",
       "<tr>\n",
       "  <th>Dep. Variable:</th>       <td>fare_amount</td>   <th>  R-squared:         </th>  <td>   0.620</td>  \n",
       "</tr>\n",
       "<tr>\n",
       "  <th>Model:</th>                   <td>OLS</td>       <th>  Adj. R-squared:    </th>  <td>   0.620</td>  \n",
       "</tr>\n",
       "<tr>\n",
       "  <th>Method:</th>             <td>Least Squares</td>  <th>  F-statistic:       </th>  <td>5.720e+04</td> \n",
       "</tr>\n",
       "<tr>\n",
       "  <th>Date:</th>             <td>Fri, 26 Apr 2024</td> <th>  Prob (F-statistic):</th>   <td>  0.00</td>   \n",
       "</tr>\n",
       "<tr>\n",
       "  <th>Time:</th>                 <td>01:44:02</td>     <th>  Log-Likelihood:    </th> <td>-1.3084e+05</td>\n",
       "</tr>\n",
       "<tr>\n",
       "  <th>No. Observations:</th>      <td>140000</td>      <th>  AIC:               </th>  <td>2.617e+05</td> \n",
       "</tr>\n",
       "<tr>\n",
       "  <th>Df Residuals:</th>          <td>139995</td>      <th>  BIC:               </th>  <td>2.617e+05</td> \n",
       "</tr>\n",
       "<tr>\n",
       "  <th>Df Model:</th>              <td>     4</td>      <th>                     </th>      <td> </td>     \n",
       "</tr>\n",
       "<tr>\n",
       "  <th>Covariance Type:</th>      <td>nonrobust</td>    <th>                     </th>      <td> </td>     \n",
       "</tr>\n",
       "</table>\n",
       "<table class=\"simpletable\">\n",
       "<tr>\n",
       "         <td></td>            <th>coef</th>     <th>std err</th>      <th>t</th>      <th>P>|t|</th>  <th>[0.025</th>    <th>0.975]</th>  \n",
       "</tr>\n",
       "<tr>\n",
       "  <th>const</th>           <td>   -0.4754</td> <td>    0.002</td> <td> -224.505</td> <td> 0.000</td> <td>   -0.480</td> <td>   -0.471</td>\n",
       "</tr>\n",
       "<tr>\n",
       "  <th>passenger_count</th> <td>    0.0090</td> <td>    0.002</td> <td>    5.453</td> <td> 0.000</td> <td>    0.006</td> <td>    0.012</td>\n",
       "</tr>\n",
       "<tr>\n",
       "  <th>afterNoon</th>       <td>    0.0459</td> <td>    0.004</td> <td>   10.905</td> <td> 0.000</td> <td>    0.038</td> <td>    0.054</td>\n",
       "</tr>\n",
       "<tr>\n",
       "  <th>medium</th>          <td>    1.3435</td> <td>    0.004</td> <td>  328.575</td> <td> 0.000</td> <td>    1.335</td> <td>    1.351</td>\n",
       "</tr>\n",
       "<tr>\n",
       "  <th>long</th>            <td>    2.4915</td> <td>    0.006</td> <td>  391.598</td> <td> 0.000</td> <td>    2.479</td> <td>    2.504</td>\n",
       "</tr>\n",
       "</table>\n",
       "<table class=\"simpletable\">\n",
       "<tr>\n",
       "  <th>Omnibus:</th>       <td>21694.127</td> <th>  Durbin-Watson:     </th> <td>   1.994</td> \n",
       "</tr>\n",
       "<tr>\n",
       "  <th>Prob(Omnibus):</th>  <td> 0.000</td>   <th>  Jarque-Bera (JB):  </th> <td>66984.822</td>\n",
       "</tr>\n",
       "<tr>\n",
       "  <th>Skew:</th>           <td> 0.809</td>   <th>  Prob(JB):          </th> <td>    0.00</td> \n",
       "</tr>\n",
       "<tr>\n",
       "  <th>Kurtosis:</th>       <td> 5.977</td>   <th>  Cond. No.          </th> <td>    4.10</td> \n",
       "</tr>\n",
       "</table><br/><br/>Notes:<br/>[1] Standard Errors assume that the covariance matrix of the errors is correctly specified."
      ],
      "text/latex": [
       "\\begin{center}\n",
       "\\begin{tabular}{lclc}\n",
       "\\toprule\n",
       "\\textbf{Dep. Variable:}    &   fare\\_amount   & \\textbf{  R-squared:         } &      0.620   \\\\\n",
       "\\textbf{Model:}            &       OLS        & \\textbf{  Adj. R-squared:    } &      0.620   \\\\\n",
       "\\textbf{Method:}           &  Least Squares   & \\textbf{  F-statistic:       } &  5.720e+04   \\\\\n",
       "\\textbf{Date:}             & Fri, 26 Apr 2024 & \\textbf{  Prob (F-statistic):} &      0.00    \\\\\n",
       "\\textbf{Time:}             &     01:44:02     & \\textbf{  Log-Likelihood:    } & -1.3084e+05  \\\\\n",
       "\\textbf{No. Observations:} &      140000      & \\textbf{  AIC:               } &  2.617e+05   \\\\\n",
       "\\textbf{Df Residuals:}     &      139995      & \\textbf{  BIC:               } &  2.617e+05   \\\\\n",
       "\\textbf{Df Model:}         &           4      & \\textbf{                     } &              \\\\\n",
       "\\textbf{Covariance Type:}  &    nonrobust     & \\textbf{                     } &              \\\\\n",
       "\\bottomrule\n",
       "\\end{tabular}\n",
       "\\begin{tabular}{lcccccc}\n",
       "                          & \\textbf{coef} & \\textbf{std err} & \\textbf{t} & \\textbf{P$> |$t$|$} & \\textbf{[0.025} & \\textbf{0.975]}  \\\\\n",
       "\\midrule\n",
       "\\textbf{const}            &      -0.4754  &        0.002     &  -224.505  &         0.000        &       -0.480    &       -0.471     \\\\\n",
       "\\textbf{passenger\\_count} &       0.0090  &        0.002     &     5.453  &         0.000        &        0.006    &        0.012     \\\\\n",
       "\\textbf{afterNoon}        &       0.0459  &        0.004     &    10.905  &         0.000        &        0.038    &        0.054     \\\\\n",
       "\\textbf{medium}           &       1.3435  &        0.004     &   328.575  &         0.000        &        1.335    &        1.351     \\\\\n",
       "\\textbf{long}             &       2.4915  &        0.006     &   391.598  &         0.000        &        2.479    &        2.504     \\\\\n",
       "\\bottomrule\n",
       "\\end{tabular}\n",
       "\\begin{tabular}{lclc}\n",
       "\\textbf{Omnibus:}       & 21694.127 & \\textbf{  Durbin-Watson:     } &     1.994  \\\\\n",
       "\\textbf{Prob(Omnibus):} &    0.000  & \\textbf{  Jarque-Bera (JB):  } & 66984.822  \\\\\n",
       "\\textbf{Skew:}          &    0.809  & \\textbf{  Prob(JB):          } &      0.00  \\\\\n",
       "\\textbf{Kurtosis:}      &    5.977  & \\textbf{  Cond. No.          } &      4.10  \\\\\n",
       "\\bottomrule\n",
       "\\end{tabular}\n",
       "%\\caption{OLS Regression Results}\n",
       "\\end{center}\n",
       "\n",
       "Notes: \\newline\n",
       " [1] Standard Errors assume that the covariance matrix of the errors is correctly specified."
      ],
      "text/plain": [
       "<class 'statsmodels.iolib.summary.Summary'>\n",
       "\"\"\"\n",
       "                            OLS Regression Results                            \n",
       "==============================================================================\n",
       "Dep. Variable:            fare_amount   R-squared:                       0.620\n",
       "Model:                            OLS   Adj. R-squared:                  0.620\n",
       "Method:                 Least Squares   F-statistic:                 5.720e+04\n",
       "Date:                Fri, 26 Apr 2024   Prob (F-statistic):               0.00\n",
       "Time:                        01:44:02   Log-Likelihood:            -1.3084e+05\n",
       "No. Observations:              140000   AIC:                         2.617e+05\n",
       "Df Residuals:                  139995   BIC:                         2.617e+05\n",
       "Df Model:                           4                                         \n",
       "Covariance Type:            nonrobust                                         \n",
       "===================================================================================\n",
       "                      coef    std err          t      P>|t|      [0.025      0.975]\n",
       "-----------------------------------------------------------------------------------\n",
       "const              -0.4754      0.002   -224.505      0.000      -0.480      -0.471\n",
       "passenger_count     0.0090      0.002      5.453      0.000       0.006       0.012\n",
       "afterNoon           0.0459      0.004     10.905      0.000       0.038       0.054\n",
       "medium              1.3435      0.004    328.575      0.000       1.335       1.351\n",
       "long                2.4915      0.006    391.598      0.000       2.479       2.504\n",
       "==============================================================================\n",
       "Omnibus:                    21694.127   Durbin-Watson:                   1.994\n",
       "Prob(Omnibus):                  0.000   Jarque-Bera (JB):            66984.822\n",
       "Skew:                           0.809   Prob(JB):                         0.00\n",
       "Kurtosis:                       5.977   Cond. No.                         4.10\n",
       "==============================================================================\n",
       "\n",
       "Notes:\n",
       "[1] Standard Errors assume that the covariance matrix of the errors is correctly specified.\n",
       "\"\"\""
      ]
     },
     "execution_count": 97,
     "metadata": {},
     "output_type": "execute_result"
    }
   ],
   "source": [
    "lr.summary()"
   ]
  },
  {
   "cell_type": "markdown",
   "id": "6f6c7e6a",
   "metadata": {},
   "source": [
    "#### Now as you can see, the p-values are within an acceptable range. So we go ahead and make our predictions using this model only."
   ]
  },
  {
   "cell_type": "markdown",
   "id": "75da9b46",
   "metadata": {},
   "source": [
    "### Residual Analysis of the train data"
   ]
  },
  {
   "cell_type": "code",
   "execution_count": 98,
   "id": "c1209c28",
   "metadata": {},
   "outputs": [],
   "source": [
    "y_pred=lr.predict(X_train_lm)"
   ]
  },
  {
   "cell_type": "code",
   "execution_count": 99,
   "id": "279ada2e",
   "metadata": {},
   "outputs": [
    {
     "name": "stderr",
     "output_type": "stream",
     "text": [
      "C:\\Users\\Sony\\AppData\\Local\\Temp\\ipykernel_3544\\3208309788.py:3: UserWarning: \n",
      "\n",
      "`distplot` is a deprecated function and will be removed in seaborn v0.14.0.\n",
      "\n",
      "Please adapt your code to use either `displot` (a figure-level function with\n",
      "similar flexibility) or `histplot` (an axes-level function for histograms).\n",
      "\n",
      "For a guide to updating your code to use the new functions, please see\n",
      "https://gist.github.com/mwaskom/de44147ed2974457ad6372750bbe5751\n",
      "\n",
      "  sns.distplot((y_train - y_pred), bins = 20)\n"
     ]
    },
    {
     "data": {
      "text/plain": [
       "Text(0.5, 0, 'Errors')"
      ]
     },
     "execution_count": 99,
     "metadata": {},
     "output_type": "execute_result"
    },
    {
     "data": {
      "image/png": "[encoded data removed]",
      "text/plain": [
       "<Figure size 640x480 with 1 Axes>"
      ]
     },
     "metadata": {},
     "output_type": "display_data"
    }
   ],
   "source": [
    "# Plot the histogram of the error terms\n",
    "fig = plt.figure()\n",
    "sns.distplot((y_train - y_pred), bins = 20)\n",
    "fig.suptitle('Error Terms', fontsize = 20)                  # Plot heading \n",
    "plt.xlabel('Errors', fontsize = 18)  "
   ]
  },
  {
   "cell_type": "markdown",
   "id": "c8b94daf",
   "metadata": {},
   "source": [
    "### Making Predictions Using the Final Model"
   ]
  },
  {
   "cell_type": "code",
   "execution_count": 101,
   "id": "b3c73f79",
   "metadata": {},
   "outputs": [],
   "source": [
    "y_test=df_test.pop(\"fare_amount\")\n"
   ]
  },
  {
   "cell_type": "code",
   "execution_count": 105,
   "id": "a7c1b555",
   "metadata": {},
   "outputs": [],
   "source": [
    "x_test=df_test"
   ]
  },
  {
   "cell_type": "code",
   "execution_count": 106,
   "id": "13c2608d",
   "metadata": {},
   "outputs": [],
   "source": [
    "x_test = sm.add_constant(x_test)\n"
   ]
  },
  {
   "cell_type": "code",
   "execution_count": 108,
   "id": "8aa38fb8",
   "metadata": {},
   "outputs": [
    {
     "name": "stderr",
     "output_type": "stream",
     "text": [
      "C:\\Users\\Sony\\AppData\\Local\\Temp\\ipykernel_3544\\2431471883.py:1: FutureWarning: In a future version of pandas all arguments of DataFrame.drop except for the argument 'labels' will be keyword-only.\n",
      "  x = x_test.drop('Eve', 1,)\n"
     ]
    }
   ],
   "source": [
    "x = x_test.drop('Eve', 1,)"
   ]
  },
  {
   "cell_type": "code",
   "execution_count": 109,
   "id": "1621dcea",
   "metadata": {},
   "outputs": [
    {
     "data": {
      "text/html": [
       "<div>\n",
       "<style scoped>\n",
       "    .dataframe tbody tr th:only-of-type {\n",
       "        vertical-align: middle;\n",
       "    }\n",
       "\n",
       "    .dataframe tbody tr th {\n",
       "        vertical-align: top;\n",
       "    }\n",
       "\n",
       "    .dataframe thead th {\n",
       "        text-align: right;\n",
       "    }\n",
       "</style>\n",
       "<table border=\"1\" class=\"dataframe\">\n",
       "  <thead>\n",
       "    <tr style=\"text-align: right;\">\n",
       "      <th></th>\n",
       "      <th>const</th>\n",
       "      <th>passenger_count</th>\n",
       "      <th>afterNoon</th>\n",
       "      <th>medium</th>\n",
       "      <th>long</th>\n",
       "    </tr>\n",
       "  </thead>\n",
       "  <tbody>\n",
       "    <tr>\n",
       "      <th>180481</th>\n",
       "      <td>1.0</td>\n",
       "      <td>-0.481554</td>\n",
       "      <td>1</td>\n",
       "      <td>0</td>\n",
       "      <td>0</td>\n",
       "    </tr>\n",
       "    <tr>\n",
       "      <th>8971</th>\n",
       "      <td>1.0</td>\n",
       "      <td>-0.481554</td>\n",
       "      <td>0</td>\n",
       "      <td>0</td>\n",
       "      <td>0</td>\n",
       "    </tr>\n",
       "    <tr>\n",
       "      <th>77027</th>\n",
       "      <td>1.0</td>\n",
       "      <td>2.344410</td>\n",
       "      <td>0</td>\n",
       "      <td>1</td>\n",
       "      <td>0</td>\n",
       "    </tr>\n",
       "    <tr>\n",
       "      <th>21656</th>\n",
       "      <td>1.0</td>\n",
       "      <td>0.931428</td>\n",
       "      <td>0</td>\n",
       "      <td>1</td>\n",
       "      <td>0</td>\n",
       "    </tr>\n",
       "    <tr>\n",
       "      <th>58303</th>\n",
       "      <td>1.0</td>\n",
       "      <td>-0.481554</td>\n",
       "      <td>0</td>\n",
       "      <td>0</td>\n",
       "      <td>0</td>\n",
       "    </tr>\n",
       "    <tr>\n",
       "      <th>...</th>\n",
       "      <td>...</td>\n",
       "      <td>...</td>\n",
       "      <td>...</td>\n",
       "      <td>...</td>\n",
       "      <td>...</td>\n",
       "    </tr>\n",
       "    <tr>\n",
       "      <th>188899</th>\n",
       "      <td>1.0</td>\n",
       "      <td>0.224937</td>\n",
       "      <td>0</td>\n",
       "      <td>0</td>\n",
       "      <td>0</td>\n",
       "    </tr>\n",
       "    <tr>\n",
       "      <th>98649</th>\n",
       "      <td>1.0</td>\n",
       "      <td>-0.481554</td>\n",
       "      <td>0</td>\n",
       "      <td>0</td>\n",
       "      <td>1</td>\n",
       "    </tr>\n",
       "    <tr>\n",
       "      <th>538</th>\n",
       "      <td>1.0</td>\n",
       "      <td>-0.481554</td>\n",
       "      <td>1</td>\n",
       "      <td>0</td>\n",
       "      <td>0</td>\n",
       "    </tr>\n",
       "    <tr>\n",
       "      <th>60387</th>\n",
       "      <td>1.0</td>\n",
       "      <td>-0.481554</td>\n",
       "      <td>0</td>\n",
       "      <td>0</td>\n",
       "      <td>0</td>\n",
       "    </tr>\n",
       "    <tr>\n",
       "      <th>134690</th>\n",
       "      <td>1.0</td>\n",
       "      <td>-0.481554</td>\n",
       "      <td>0</td>\n",
       "      <td>0</td>\n",
       "      <td>0</td>\n",
       "    </tr>\n",
       "  </tbody>\n",
       "</table>\n",
       "<p>60000 rows × 5 columns</p>\n",
       "</div>"
      ],
      "text/plain": [
       "        const  passenger_count  afterNoon  medium  long\n",
       "180481    1.0        -0.481554          1       0     0\n",
       "8971      1.0        -0.481554          0       0     0\n",
       "77027     1.0         2.344410          0       1     0\n",
       "21656     1.0         0.931428          0       1     0\n",
       "58303     1.0        -0.481554          0       0     0\n",
       "...       ...              ...        ...     ...   ...\n",
       "188899    1.0         0.224937          0       0     0\n",
       "98649     1.0        -0.481554          0       0     1\n",
       "538       1.0        -0.481554          1       0     0\n",
       "60387     1.0        -0.481554          0       0     0\n",
       "134690    1.0        -0.481554          0       0     0\n",
       "\n",
       "[60000 rows x 5 columns]"
      ]
     },
     "execution_count": 109,
     "metadata": {},
     "output_type": "execute_result"
    }
   ],
   "source": [
    "x"
   ]
  },
  {
   "cell_type": "code",
   "execution_count": 110,
   "id": "13d378cb",
   "metadata": {},
   "outputs": [],
   "source": [
    "y_pred = lr.predict(x)"
   ]
  },
  {
   "cell_type": "markdown",
   "id": "2057cd10",
   "metadata": {},
   "source": [
    "## Model Evaluation"
   ]
  },
  {
   "cell_type": "code",
   "execution_count": 111,
   "id": "6d8ce5b9",
   "metadata": {},
   "outputs": [
    {
     "data": {
      "text/plain": [
       "Text(0, 0.5, 'y_pred')"
      ]
     },
     "execution_count": 111,
     "metadata": {},
     "output_type": "execute_result"
    },
    {
     "data": {
      "image/png": "[encoded data removed]",
      "text/plain": [
       "<Figure size 640x480 with 1 Axes>"
      ]
     },
     "metadata": {},
     "output_type": "display_data"
    }
   ],
   "source": [
    "# Plotting y_test and y_pred to understand the spread\n",
    "\n",
    "fig = plt.figure()\n",
    "plt.scatter(y_test, y_pred)\n",
    "fig.suptitle('y_test vs y_pred', fontsize = 20)              # Plot heading \n",
    "plt.xlabel('y_test', fontsize = 18)                          # X-label\n",
    "plt.ylabel('y_pred', fontsize = 16) "
   ]
  },
  {
   "cell_type": "code",
   "execution_count": null,
   "id": "0b6ec0d8",
   "metadata": {},
   "outputs": [],
   "source": []
  },
  {
   "cell_type": "code",
   "execution_count": null,
   "id": "0ad87113",
   "metadata": {},
   "outputs": [],
   "source": []
  },
  {
   "cell_type": "code",
   "execution_count": null,
   "id": "5836ae4c",
   "metadata": {},
   "outputs": [],
   "source": []
  },
  {
   "cell_type": "code",
   "execution_count": null,
   "id": "6f9bd981",
   "metadata": {},
   "outputs": [],
   "source": []
  },
  {
   "cell_type": "code",
   "execution_count": null,
   "id": "b9b8b0b4",
   "metadata": {},
   "outputs": [],
   "source": []
  }
 ],
 "metadata": {
  "kernelspec": {
   "display_name": "Python 3 (ipykernel)",
   "language": "python",
   "name": "python3"
  },
  "language_info": {
   "codemirror_mode": {
    "name": "ipython",
    "version": 3
   },
   "file_extension": ".py",
   "mimetype": "text/x-python",
   "name": "python",
   "nbconvert_exporter": "python",
   "pygments_lexer": "ipython3",
   "version": "3.11.4"
  }
 },
 "nbformat": 4,
 "nbformat_minor": 5
}
